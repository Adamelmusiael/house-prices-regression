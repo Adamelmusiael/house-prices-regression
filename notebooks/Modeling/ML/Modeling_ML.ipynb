{
 "cells": [
  {
   "cell_type": "markdown",
   "id": "7859e8db-e8ff-400b-8dd4-c393584230ee",
   "metadata": {},
   "source": [
    "Plan for ML models\n",
    "1. Prepare Data\n",
    "2. Build Baseline models\n",
    "   * set baseline scores of best models on test dataset\n",
    "3. Hyperparameter Tunning\n",
    "   * Rnadomized Search\n",
    "   * Grid Search\n",
    "4. Ensemble Techinques\n",
    "\n",
    "List of models:\n",
    "1. Random Forest\n",
    "2. XGBoost\n",
    "3. LightGBM\n",
    "4. Lasso\n",
    "5. Ridge\n",
    "6. ElasticNet\n",
    "7. SVM"
   ]
  },
  {
   "cell_type": "code",
   "execution_count": 1,
   "id": "50c06ef6-6a64-4faa-b5f1-46616969b45c",
   "metadata": {
    "scrolled": true
   },
   "outputs": [],
   "source": [
    "import numpy as np\n",
    "import pandas as pd\n",
    "import matplotlib.pyplot as plt\n",
    "import tensorflow as tf\n",
    "from sklearn.preprocessing import StandardScaler, OneHotEncoder\n",
    "from sklearn.compose import ColumnTransformer\n",
    "from sklearn.ensemble import RandomForestRegressor, VotingRegressor\n",
    "from xgboost import XGBRegressor\n",
    "from sklearn.linear_model import Lasso, Ridge, ElasticNet, LinearRegression\n",
    "from sklearn.svm import SVR\n",
    "from sklearn.model_selection import train_test_split\n",
    "from sklearn.metrics import mean_squared_error\n",
    "import matplotlib.image as mpimg \n",
    "from sklearn.base import BaseEstimator, RegressorMixin\n",
    "import joblib"
   ]
  },
  {
   "cell_type": "code",
   "execution_count": 2,
   "id": "b40110ee-fe67-4a2f-ae6d-de1383cd3de4",
   "metadata": {},
   "outputs": [
    {
     "data": {
      "text/html": [
       "<div>\n",
       "<style scoped>\n",
       "    .dataframe tbody tr th:only-of-type {\n",
       "        vertical-align: middle;\n",
       "    }\n",
       "\n",
       "    .dataframe tbody tr th {\n",
       "        vertical-align: top;\n",
       "    }\n",
       "\n",
       "    .dataframe thead th {\n",
       "        text-align: right;\n",
       "    }\n",
       "</style>\n",
       "<table border=\"1\" class=\"dataframe\">\n",
       "  <thead>\n",
       "    <tr style=\"text-align: right;\">\n",
       "      <th></th>\n",
       "      <th>Unnamed: 0</th>\n",
       "      <th>Id</th>\n",
       "      <th>MSSubClass</th>\n",
       "      <th>MSZoning</th>\n",
       "      <th>LotFrontage</th>\n",
       "      <th>LotArea</th>\n",
       "      <th>Street</th>\n",
       "      <th>LotShape</th>\n",
       "      <th>LandContour</th>\n",
       "      <th>Utilities</th>\n",
       "      <th>...</th>\n",
       "      <th>YrSold</th>\n",
       "      <th>SaleType</th>\n",
       "      <th>SaleCondition</th>\n",
       "      <th>AgeOfHouse</th>\n",
       "      <th>YearsSinceRenov</th>\n",
       "      <th>TotalBathNum</th>\n",
       "      <th>PorchSize</th>\n",
       "      <th>IsBasement</th>\n",
       "      <th>IsFirePlace</th>\n",
       "      <th>IsGarage</th>\n",
       "    </tr>\n",
       "  </thead>\n",
       "  <tbody>\n",
       "    <tr>\n",
       "      <th>0</th>\n",
       "      <td>0</td>\n",
       "      <td>1</td>\n",
       "      <td>4.110874</td>\n",
       "      <td>RL</td>\n",
       "      <td>4.189655</td>\n",
       "      <td>9.042040</td>\n",
       "      <td>Pave</td>\n",
       "      <td>Reg</td>\n",
       "      <td>Lvl</td>\n",
       "      <td>AllPub</td>\n",
       "      <td>...</td>\n",
       "      <td>2008</td>\n",
       "      <td>WD</td>\n",
       "      <td>Normal</td>\n",
       "      <td>5</td>\n",
       "      <td>5</td>\n",
       "      <td>4.000000</td>\n",
       "      <td>4.127134</td>\n",
       "      <td>True</td>\n",
       "      <td>False</td>\n",
       "      <td>True</td>\n",
       "    </tr>\n",
       "    <tr>\n",
       "      <th>1</th>\n",
       "      <td>1</td>\n",
       "      <td>2</td>\n",
       "      <td>3.044522</td>\n",
       "      <td>RL</td>\n",
       "      <td>4.394449</td>\n",
       "      <td>9.169623</td>\n",
       "      <td>Pave</td>\n",
       "      <td>Reg</td>\n",
       "      <td>Lvl</td>\n",
       "      <td>AllPub</td>\n",
       "      <td>...</td>\n",
       "      <td>2007</td>\n",
       "      <td>WD</td>\n",
       "      <td>Normal</td>\n",
       "      <td>31</td>\n",
       "      <td>31</td>\n",
       "      <td>2.693147</td>\n",
       "      <td>0.000000</td>\n",
       "      <td>True</td>\n",
       "      <td>True</td>\n",
       "      <td>True</td>\n",
       "    </tr>\n",
       "    <tr>\n",
       "      <th>2</th>\n",
       "      <td>2</td>\n",
       "      <td>3</td>\n",
       "      <td>4.110874</td>\n",
       "      <td>RL</td>\n",
       "      <td>4.234107</td>\n",
       "      <td>9.328212</td>\n",
       "      <td>Pave</td>\n",
       "      <td>IR1</td>\n",
       "      <td>Lvl</td>\n",
       "      <td>AllPub</td>\n",
       "      <td>...</td>\n",
       "      <td>2008</td>\n",
       "      <td>WD</td>\n",
       "      <td>Normal</td>\n",
       "      <td>7</td>\n",
       "      <td>6</td>\n",
       "      <td>4.000000</td>\n",
       "      <td>3.761200</td>\n",
       "      <td>True</td>\n",
       "      <td>True</td>\n",
       "      <td>True</td>\n",
       "    </tr>\n",
       "    <tr>\n",
       "      <th>3</th>\n",
       "      <td>3</td>\n",
       "      <td>4</td>\n",
       "      <td>4.262680</td>\n",
       "      <td>RL</td>\n",
       "      <td>4.110874</td>\n",
       "      <td>9.164401</td>\n",
       "      <td>Pave</td>\n",
       "      <td>IR1</td>\n",
       "      <td>Lvl</td>\n",
       "      <td>AllPub</td>\n",
       "      <td>...</td>\n",
       "      <td>2006</td>\n",
       "      <td>WD</td>\n",
       "      <td>Abnorml</td>\n",
       "      <td>91</td>\n",
       "      <td>36</td>\n",
       "      <td>2.000000</td>\n",
       "      <td>9.192991</td>\n",
       "      <td>True</td>\n",
       "      <td>True</td>\n",
       "      <td>True</td>\n",
       "    </tr>\n",
       "    <tr>\n",
       "      <th>4</th>\n",
       "      <td>4</td>\n",
       "      <td>5</td>\n",
       "      <td>4.110874</td>\n",
       "      <td>RL</td>\n",
       "      <td>4.442651</td>\n",
       "      <td>9.565284</td>\n",
       "      <td>Pave</td>\n",
       "      <td>IR1</td>\n",
       "      <td>Lvl</td>\n",
       "      <td>AllPub</td>\n",
       "      <td>...</td>\n",
       "      <td>2008</td>\n",
       "      <td>WD</td>\n",
       "      <td>Normal</td>\n",
       "      <td>8</td>\n",
       "      <td>8</td>\n",
       "      <td>4.000000</td>\n",
       "      <td>4.442651</td>\n",
       "      <td>True</td>\n",
       "      <td>True</td>\n",
       "      <td>True</td>\n",
       "    </tr>\n",
       "  </tbody>\n",
       "</table>\n",
       "<p>5 rows × 84 columns</p>\n",
       "</div>"
      ],
      "text/plain": [
       "   Unnamed: 0  Id  MSSubClass MSZoning  LotFrontage   LotArea Street LotShape  \\\n",
       "0           0   1    4.110874       RL     4.189655  9.042040   Pave      Reg   \n",
       "1           1   2    3.044522       RL     4.394449  9.169623   Pave      Reg   \n",
       "2           2   3    4.110874       RL     4.234107  9.328212   Pave      IR1   \n",
       "3           3   4    4.262680       RL     4.110874  9.164401   Pave      IR1   \n",
       "4           4   5    4.110874       RL     4.442651  9.565284   Pave      IR1   \n",
       "\n",
       "  LandContour Utilities  ... YrSold SaleType SaleCondition AgeOfHouse  \\\n",
       "0         Lvl    AllPub  ...   2008       WD        Normal          5   \n",
       "1         Lvl    AllPub  ...   2007       WD        Normal         31   \n",
       "2         Lvl    AllPub  ...   2008       WD        Normal          7   \n",
       "3         Lvl    AllPub  ...   2006       WD       Abnorml         91   \n",
       "4         Lvl    AllPub  ...   2008       WD        Normal          8   \n",
       "\n",
       "  YearsSinceRenov TotalBathNum PorchSize  IsBasement  IsFirePlace  IsGarage  \n",
       "0               5     4.000000  4.127134        True        False      True  \n",
       "1              31     2.693147  0.000000        True         True      True  \n",
       "2               6     4.000000  3.761200        True         True      True  \n",
       "3              36     2.000000  9.192991        True         True      True  \n",
       "4               8     4.000000  4.442651        True         True      True  \n",
       "\n",
       "[5 rows x 84 columns]"
      ]
     },
     "execution_count": 2,
     "metadata": {},
     "output_type": "execute_result"
    }
   ],
   "source": [
    "# 1. As a remainder, in feature engineering section I have found out tha our ML model work better on the dataset with new features\n",
    "dataset_df = pd.read_csv(r\"C:\\Users\\Adam\\Desktop\\main\\programming\\machine learning\\house prices regression\\data\\preprocessed\\dataset_with_new_features_rep.csv\")\n",
    "dataset_df.head()"
   ]
  },
  {
   "cell_type": "code",
   "execution_count": 3,
   "id": "93e4f345-859f-4c76-b9e2-2c9b5e8af552",
   "metadata": {
    "jupyter": {
     "source_hidden": true
    }
   },
   "outputs": [],
   "source": [
    "# In order to train and evaluate our ML models we need to preprocess our model. For this purpose I will use previously created pipeline\n",
    "def my_pipeline(df):\n",
    "    \"\"\"\n",
    "    Encodes non-numeric columns using OneHotEncoder and scales numeric columns using StandardScaler.\n",
    "\n",
    "    Parameters:\n",
    "        df (pd.DataFrame): Input dataset as a pandas DataFrame.\n",
    "\n",
    "    Returns:\n",
    "        pd.DataFrame: Transformed dataset with encoded and scaled features.\n",
    "    \"\"\"\n",
    "    # Identify numeric and categorical columns\n",
    "    numeric_features = df.select_dtypes(include=[np.number]).columns.tolist()\n",
    "    categorical_features = df.select_dtypes(exclude=[np.number]).columns.tolist()\n",
    "\n",
    "    # Define transformers for numeric and categorical features\n",
    "    numeric_transformer = StandardScaler()\n",
    "    categorical_transformer = OneHotEncoder(sparse_output=False, handle_unknown=\"ignore\")\n",
    "\n",
    "    # Combine transformers in a ColumnTransformer\n",
    "    preprocessor = ColumnTransformer(\n",
    "        transformers=[\n",
    "            ('num', numeric_transformer, numeric_features),\n",
    "            ('cat', categorical_transformer, categorical_features)\n",
    "        ]\n",
    "    )\n",
    "\n",
    "    # Apply transformations\n",
    "    transformed_data = preprocessor.fit_transform(df)\n",
    "\n",
    "    # Get column names for transformed data\n",
    "    cat_columns = preprocessor.named_transformers_['cat'].get_feature_names_out(categorical_features)\n",
    "    all_columns = numeric_features + list(cat_columns)\n",
    "\n",
    "    # Create a DataFrame with transformed data\n",
    "    transformed_df = pd.DataFrame(transformed_data, columns=all_columns, index=df.index)\n",
    "\n",
    "    return transformed_df"
   ]
  },
  {
   "cell_type": "code",
   "execution_count": 26,
   "id": "6c9a09bb-c325-4115-8a62-771754c5350a",
   "metadata": {},
   "outputs": [
    {
     "name": "stdout",
     "output_type": "stream",
     "text": [
      "Shape of the preprocessed combined dataset: (2919, 297)\n",
      "Shape of the preprocessed train dataset: (1460, 297)\n",
      "Shape of the preprocessed test dataset: (1459, 297)\n"
     ]
    }
   ],
   "source": [
    "dataset_proc = my_pipeline(dataset_df)\n",
    "#dataset_proc.head()\n",
    "train_raw = pd.read_csv(r\"C:\\Users\\Adam\\Desktop\\main\\programming\\machine learning\\house prices regression\\data\\raw\\train.csv\")\n",
    "test_raw = pd.read_csv(r\"C:\\Users\\Adam\\Desktop\\main\\programming\\machine learning\\house prices regression\\data\\raw\\test.csv\")\n",
    "train_len = len(train_raw)\n",
    "train_proc = dataset_proc[:train_len]\n",
    "test_proc = dataset_proc[train_len:]\n",
    "print(f'Shape of the preprocessed combined dataset: {dataset_proc.shape}')\n",
    "print(f'Shape of the preprocessed train dataset: {train_proc.shape}')\n",
    "print(f'Shape of the preprocessed test dataset: {test_proc.shape}')"
   ]
  },
  {
   "cell_type": "code",
   "execution_count": 5,
   "id": "bfe464f8-8724-496d-ab3b-790a95e07a93",
   "metadata": {},
   "outputs": [],
   "source": [
    "# split into train and valid data\n",
    "X = train_proc\n",
    "y = train_raw['SalePrice']\n",
    "X_train, X_val, y_train, y_val = train_test_split(X, y, \n",
    "                                                  test_size=0.2,\n",
    "                                                  random_state=42)"
   ]
  },
  {
   "cell_type": "code",
   "execution_count": 6,
   "id": "ea282c6a-0a5f-4147-a920-e8f5e1276931",
   "metadata": {},
   "outputs": [],
   "source": [
    "def rmse(y_true, y_pred):\n",
    "    return np.sqrt(mean_squared_error(y_true, y_pred))"
   ]
  },
  {
   "cell_type": "code",
   "execution_count": 7,
   "id": "0c5baf13-7faf-4d02-8569-c78cab0eadca",
   "metadata": {},
   "outputs": [],
   "source": [
    "def evaluate_models(models, X_train, X_val, y_train, y_val):\n",
    "    \"\"\"\n",
    "    Evaluate multiple models and return a DataFrame with their names and scores.\n",
    "    Parameters:\n",
    "     -models: (dictionary) Dictionary of models with keys as model names and values as model instances.\n",
    "     -X_train, X_val, y_train, y_test: training and evaluating arrays\n",
    "    \"\"\"\n",
    "    results = []\n",
    "    for model_name, model in models.items():\n",
    "        print(f'Training model: {model_name}')\n",
    "        model.fit(X_train, y_train)\n",
    "        y_preds = model.predict(X_val)\n",
    "        val_rmse = rmse(y_val, y_preds)\n",
    "        results.append({\"Model\": model_name, \"RMSE\": val_rmse})\n",
    "    results_df = pd.DataFrame(results).sort_values(by='RMSE', ascending=True)\n",
    "    return results_df"
   ]
  },
  {
   "cell_type": "code",
   "execution_count": 36,
   "id": "b1257047-c30f-4656-adb9-d48743a40566",
   "metadata": {},
   "outputs": [],
   "source": [
    "# 2.Build baseline models\n",
    "models = {'RandomForestRegressor': RandomForestRegressor(random_state=42),\n",
    "          'XGBoostRegressor': XGBRegressor(random_state=42),\n",
    "          'Lasso': Lasso(random_state=42),\n",
    "          'Ridge':Ridge(random_state=42),\n",
    "          'LinearRegression': LinearRegression(),\n",
    "          'ElasticNet':ElasticNet(random_state=42),\n",
    "          'SVR':SVR()}"
   ]
  },
  {
   "cell_type": "code",
   "execution_count": 37,
   "id": "ae0e0543-f3f5-44ff-9085-f508714de1ea",
   "metadata": {},
   "outputs": [
    {
     "name": "stdout",
     "output_type": "stream",
     "text": [
      "Training model: RandomForestRegressor\n",
      "Training model: XGBoostRegressor\n",
      "Training model: Lasso\n"
     ]
    },
    {
     "name": "stderr",
     "output_type": "stream",
     "text": [
      "C:\\Users\\Adam\\anaconda3\\envs\\housing-prices\\lib\\site-packages\\sklearn\\linear_model\\_coordinate_descent.py:695: ConvergenceWarning: Objective did not converge. You might want to increase the number of iterations, check the scale of the features or consider increasing regularisation. Duality gap: 4.740e+10, tolerance: 6.967e+08\n",
      "  model = cd_fast.enet_coordinate_descent(\n"
     ]
    },
    {
     "name": "stdout",
     "output_type": "stream",
     "text": [
      "Training model: Ridge\n",
      "Training model: LinearRegression\n",
      "Training model: ElasticNet\n",
      "Training model: SVR\n"
     ]
    },
    {
     "data": {
      "text/html": [
       "<div>\n",
       "<style scoped>\n",
       "    .dataframe tbody tr th:only-of-type {\n",
       "        vertical-align: middle;\n",
       "    }\n",
       "\n",
       "    .dataframe tbody tr th {\n",
       "        vertical-align: top;\n",
       "    }\n",
       "\n",
       "    .dataframe thead th {\n",
       "        text-align: right;\n",
       "    }\n",
       "</style>\n",
       "<table border=\"1\" class=\"dataframe\">\n",
       "  <thead>\n",
       "    <tr style=\"text-align: right;\">\n",
       "      <th></th>\n",
       "      <th>Model</th>\n",
       "      <th>RMSE</th>\n",
       "    </tr>\n",
       "  </thead>\n",
       "  <tbody>\n",
       "    <tr>\n",
       "      <th>1</th>\n",
       "      <td>XGBoostRegressor</td>\n",
       "      <td>26264.884542</td>\n",
       "    </tr>\n",
       "    <tr>\n",
       "      <th>0</th>\n",
       "      <td>RandomForestRegressor</td>\n",
       "      <td>28853.150088</td>\n",
       "    </tr>\n",
       "    <tr>\n",
       "      <th>2</th>\n",
       "      <td>Lasso</td>\n",
       "      <td>31003.796030</td>\n",
       "    </tr>\n",
       "    <tr>\n",
       "      <th>3</th>\n",
       "      <td>Ridge</td>\n",
       "      <td>31286.211130</td>\n",
       "    </tr>\n",
       "    <tr>\n",
       "      <th>4</th>\n",
       "      <td>LinearRegression</td>\n",
       "      <td>31510.703022</td>\n",
       "    </tr>\n",
       "    <tr>\n",
       "      <th>5</th>\n",
       "      <td>ElasticNet</td>\n",
       "      <td>39269.825527</td>\n",
       "    </tr>\n",
       "    <tr>\n",
       "      <th>6</th>\n",
       "      <td>SVR</td>\n",
       "      <td>88623.241394</td>\n",
       "    </tr>\n",
       "  </tbody>\n",
       "</table>\n",
       "</div>"
      ],
      "text/plain": [
       "                   Model          RMSE\n",
       "1       XGBoostRegressor  26264.884542\n",
       "0  RandomForestRegressor  28853.150088\n",
       "2                  Lasso  31003.796030\n",
       "3                  Ridge  31286.211130\n",
       "4       LinearRegression  31510.703022\n",
       "5             ElasticNet  39269.825527\n",
       "6                    SVR  88623.241394"
      ]
     },
     "execution_count": 37,
     "metadata": {},
     "output_type": "execute_result"
    }
   ],
   "source": [
    "results_df = evaluate_models(models, X_train, X_val, y_train, y_val)\n",
    "results_df"
   ]
  },
  {
   "cell_type": "code",
   "execution_count": 23,
   "id": "91242130-353c-4b52-8d1d-c509b82b52e5",
   "metadata": {},
   "outputs": [],
   "source": [
    "y_true = train_raw['SalePrice']"
   ]
  },
  {
   "cell_type": "code",
   "execution_count": 30,
   "id": "0cb0ab4f-f3cc-44b8-8c22-742ba621c769",
   "metadata": {},
   "outputs": [
    {
     "name": "stderr",
     "output_type": "stream",
     "text": [
      "C:\\Users\\Adam\\anaconda3\\envs\\housing-prices\\lib\\site-packages\\sklearn\\linear_model\\_coordinate_descent.py:695: ConvergenceWarning: Objective did not converge. You might want to increase the number of iterations, check the scale of the features or consider increasing regularisation. Duality gap: 9.321e+10, tolerance: 9.208e+08\n",
      "  model = cd_fast.enet_coordinate_descent(\n"
     ]
    }
   ],
   "source": [
    "# Let's set a threshold. For this I will use 3 best models on this list\n",
    "\n",
    "models = {'XGBoostRegressor': XGBRegressor(random_state=42),\n",
    "          'RandomForestRegressor': RandomForestRegressor(random_state=42),\n",
    "          'Lasso': Lasso(random_state=42)}\n",
    "\n",
    "\n",
    "preds = [] \n",
    "for name, model in models.items(): \n",
    "    model = model.fit(train_proc, y_true)\n",
    "    y_preds = model.predict(test_proc)\n",
    "    preds_df = pd.DataFrame({'Id': test_raw['Id'], 'SalePrice': y_preds.flatten()})\n",
    "    preds.append(preds_df)\n",
    "    name_csv = 'submission_ml_base_' + name + '.csv'\n",
    "    preds_df.to_csv(name_csv,index=False)"
   ]
  },
  {
   "cell_type": "code",
   "execution_count": 35,
   "id": "17a039fb-54e1-48b1-abf7-f10d3ea4a0ef",
   "metadata": {},
   "outputs": [
    {
     "data": {
      "image/png": "[encoded data removed]",
      "text/plain": [
       "<Figure size 1500x1200 with 1 Axes>"
      ]
     },
     "metadata": {},
     "output_type": "display_data"
    }
   ],
   "source": [
    "img = mpimg.imread(r\"C:\\Users\\Adam\\Desktop\\main\\programming\\machine learning\\house prices regression\\reports\\threhshold_ml.png\")\n",
    "\n",
    "plt.figure(figsize=(15,12))\n",
    "plt.imshow(img)\n",
    "plt.axis('off')\n",
    "plt.show()"
   ]
  },
  {
   "cell_type": "markdown",
   "id": "055b5eae-1541-4deb-b107-647ddff7eed5",
   "metadata": {},
   "source": [
    "### NOTE\n",
    "Right so on the ss above we can see already an advantage that this models have. As a remainder DNNs threshold did score about 0.16."
   ]
  },
  {
   "cell_type": "code",
   "execution_count": 45,
   "id": "dc691742-2533-4094-9288-8ad39be9575e",
   "metadata": {},
   "outputs": [
    {
     "name": "stdout",
     "output_type": "stream",
     "text": [
      "Training model with learning_rate=0.001\n",
      "Training model with learning_rate=0.01\n",
      "Training model with learning_rate=0.5\n",
      "Training model with learning_rate=0.1\n",
      "Training model with learning_rate=0.3\n"
     ]
    },
    {
     "data": {
      "text/html": [
       "<div>\n",
       "<style scoped>\n",
       "    .dataframe tbody tr th:only-of-type {\n",
       "        vertical-align: middle;\n",
       "    }\n",
       "\n",
       "    .dataframe tbody tr th {\n",
       "        vertical-align: top;\n",
       "    }\n",
       "\n",
       "    .dataframe thead th {\n",
       "        text-align: right;\n",
       "    }\n",
       "</style>\n",
       "<table border=\"1\" class=\"dataframe\">\n",
       "  <thead>\n",
       "    <tr style=\"text-align: right;\">\n",
       "      <th></th>\n",
       "      <th>learning_rate</th>\n",
       "      <th>validation rmse</th>\n",
       "    </tr>\n",
       "  </thead>\n",
       "  <tbody>\n",
       "    <tr>\n",
       "      <th>0</th>\n",
       "      <td>0.001</td>\n",
       "      <td>80932.643599</td>\n",
       "    </tr>\n",
       "    <tr>\n",
       "      <th>1</th>\n",
       "      <td>0.010</td>\n",
       "      <td>45783.128421</td>\n",
       "    </tr>\n",
       "    <tr>\n",
       "      <th>2</th>\n",
       "      <td>0.500</td>\n",
       "      <td>28753.341093</td>\n",
       "    </tr>\n",
       "    <tr>\n",
       "      <th>3</th>\n",
       "      <td>0.100</td>\n",
       "      <td>24627.191476</td>\n",
       "    </tr>\n",
       "    <tr>\n",
       "      <th>4</th>\n",
       "      <td>0.300</td>\n",
       "      <td>26264.884542</td>\n",
       "    </tr>\n",
       "  </tbody>\n",
       "</table>\n",
       "</div>"
      ],
      "text/plain": [
       "   learning_rate  validation rmse\n",
       "0          0.001     80932.643599\n",
       "1          0.010     45783.128421\n",
       "2          0.500     28753.341093\n",
       "3          0.100     24627.191476\n",
       "4          0.300     26264.884542"
      ]
     },
     "execution_count": 45,
     "metadata": {},
     "output_type": "execute_result"
    }
   ],
   "source": [
    "# 2.Hyperparameter tunning. XGBoostRegressor\n",
    "learning_rate_vals = [0.001, 0.01, 0.5, 0.1, 0.3]\n",
    "\n",
    "results = []\n",
    "for value in learning_rate_vals:\n",
    "    print(f'Training model with learning_rate={value}')\n",
    "    model = XGBRegressor(learning_rate=value,random_state=42)\n",
    "    model.fit(X_train, y_train)\n",
    "    y_preds = model.predict(X_val)\n",
    "    val_rmse = rmse(y_val, y_preds)\n",
    "    results.append({'learning_rate':value, 'validation rmse':val_rmse})\n",
    "results_df = pd.DataFrame(results)\n",
    "results_df"
   ]
  },
  {
   "cell_type": "code",
   "execution_count": 62,
   "id": "39f5ad15-09e2-4a42-b417-53b72e1f9230",
   "metadata": {},
   "outputs": [
    {
     "data": {
      "text/html": [
       "<div>\n",
       "<style scoped>\n",
       "    .dataframe tbody tr th:only-of-type {\n",
       "        vertical-align: middle;\n",
       "    }\n",
       "\n",
       "    .dataframe tbody tr th {\n",
       "        vertical-align: top;\n",
       "    }\n",
       "\n",
       "    .dataframe thead th {\n",
       "        text-align: right;\n",
       "    }\n",
       "</style>\n",
       "<table border=\"1\" class=\"dataframe\">\n",
       "  <thead>\n",
       "    <tr style=\"text-align: right;\">\n",
       "      <th></th>\n",
       "      <th>learning_rate</th>\n",
       "      <th>validation rmse</th>\n",
       "    </tr>\n",
       "  </thead>\n",
       "  <tbody>\n",
       "    <tr>\n",
       "      <th>4</th>\n",
       "      <td>0.09</td>\n",
       "      <td>24441.407488</td>\n",
       "    </tr>\n",
       "    <tr>\n",
       "      <th>18</th>\n",
       "      <td>0.23</td>\n",
       "      <td>24521.460315</td>\n",
       "    </tr>\n",
       "    <tr>\n",
       "      <th>5</th>\n",
       "      <td>0.10</td>\n",
       "      <td>24627.191476</td>\n",
       "    </tr>\n",
       "    <tr>\n",
       "      <th>13</th>\n",
       "      <td>0.18</td>\n",
       "      <td>24899.083357</td>\n",
       "    </tr>\n",
       "    <tr>\n",
       "      <th>2</th>\n",
       "      <td>0.07</td>\n",
       "      <td>25037.359605</td>\n",
       "    </tr>\n",
       "  </tbody>\n",
       "</table>\n",
       "</div>"
      ],
      "text/plain": [
       "    learning_rate  validation rmse\n",
       "4            0.09     24441.407488\n",
       "18           0.23     24521.460315\n",
       "5            0.10     24627.191476\n",
       "13           0.18     24899.083357\n",
       "2            0.07     25037.359605"
      ]
     },
     "execution_count": 62,
     "metadata": {},
     "output_type": "execute_result"
    }
   ],
   "source": [
    "learning_rate_vals = [round(x,2 ) for x in np.arange(0.05,0.25, 0.01).tolist()]\n",
    "\n",
    "results = []\n",
    "for value in learning_rate_vals:\n",
    "    #print(f'Training model with learning_rate={value}')\n",
    "    model = XGBRegressor(learning_rate=value,random_state=42)\n",
    "    model.fit(X_train, y_train)\n",
    "    y_preds = model.predict(X_val)\n",
    "    val_rmse = rmse(y_val, y_preds)\n",
    "    results.append({'learning_rate':value, 'validation rmse':val_rmse})\n",
    "results_df = pd.DataFrame(results)\n",
    "results_df.sort_values(by='validation rmse').head(5)"
   ]
  },
  {
   "cell_type": "code",
   "execution_count": 71,
   "id": "5993a015-9859-4502-84ec-325c5a02da0c",
   "metadata": {},
   "outputs": [
    {
     "name": "stdout",
     "output_type": "stream",
     "text": [
      "Training XGB with n_estimators=100\n",
      "Training XGB with n_estimators=200\n",
      "Training XGB with n_estimators=300\n",
      "Training XGB with n_estimators=400\n",
      "Training XGB with n_estimators=500\n",
      "Training XGB with n_estimators=600\n",
      "Training XGB with n_estimators=700\n",
      "Training XGB with n_estimators=800\n",
      "Training XGB with n_estimators=900\n",
      "Training XGB with n_estimators=1000\n"
     ]
    },
    {
     "data": {
      "text/html": [
       "<div>\n",
       "<style scoped>\n",
       "    .dataframe tbody tr th:only-of-type {\n",
       "        vertical-align: middle;\n",
       "    }\n",
       "\n",
       "    .dataframe tbody tr th {\n",
       "        vertical-align: top;\n",
       "    }\n",
       "\n",
       "    .dataframe thead th {\n",
       "        text-align: right;\n",
       "    }\n",
       "</style>\n",
       "<table border=\"1\" class=\"dataframe\">\n",
       "  <thead>\n",
       "    <tr style=\"text-align: right;\">\n",
       "      <th></th>\n",
       "      <th>n_estimators</th>\n",
       "      <th>val_rmse</th>\n",
       "    </tr>\n",
       "  </thead>\n",
       "  <tbody>\n",
       "    <tr>\n",
       "      <th>1</th>\n",
       "      <td>200</td>\n",
       "      <td>24275.707034</td>\n",
       "    </tr>\n",
       "    <tr>\n",
       "      <th>9</th>\n",
       "      <td>1000</td>\n",
       "      <td>24329.323213</td>\n",
       "    </tr>\n",
       "    <tr>\n",
       "      <th>8</th>\n",
       "      <td>900</td>\n",
       "      <td>24329.904562</td>\n",
       "    </tr>\n",
       "    <tr>\n",
       "      <th>5</th>\n",
       "      <td>600</td>\n",
       "      <td>24330.710799</td>\n",
       "    </tr>\n",
       "    <tr>\n",
       "      <th>6</th>\n",
       "      <td>700</td>\n",
       "      <td>24330.751571</td>\n",
       "    </tr>\n",
       "  </tbody>\n",
       "</table>\n",
       "</div>"
      ],
      "text/plain": [
       "   n_estimators      val_rmse\n",
       "1           200  24275.707034\n",
       "9          1000  24329.323213\n",
       "8           900  24329.904562\n",
       "5           600  24330.710799\n",
       "6           700  24330.751571"
      ]
     },
     "execution_count": 71,
     "metadata": {},
     "output_type": "execute_result"
    }
   ],
   "source": [
    "# learnirng rate value 0.09 tend to work the best. Let's move on to the n_estimators\n",
    "n_estimator_vals = [i for i in range(100,1100, 100)]\n",
    "results = []\n",
    "for value in n_estimator_vals:\n",
    "    print(f'Training XGB with n_estimators={value}')\n",
    "    model = XGBRegressor(learning_rate=0.09, random_state=42, n_estimators=value)\n",
    "    model.fit(X_train, y_train)\n",
    "    y_preds = model.predict(X_val)\n",
    "    val_rmse = rmse(y_val, y_preds)\n",
    "    results.append({'n_estimators':value, 'val_rmse':val_rmse})\n",
    "\n",
    "results_df = pd.DataFrame(results)\n",
    "results_df.sort_values(by='val_rmse').head(5)"
   ]
  },
  {
   "cell_type": "code",
   "execution_count": 72,
   "id": "bb998be5-a58c-41cb-85aa-89dd493f677e",
   "metadata": {},
   "outputs": [
    {
     "name": "stdout",
     "output_type": "stream",
     "text": [
      "Training XGB with n_estimators=150\n",
      "Training XGB with n_estimators=200\n",
      "Training XGB with n_estimators=250\n",
      "Training XGB with n_estimators=950\n",
      "Training XGB with n_estimators=1000\n",
      "Training XGB with n_estimators=1050\n"
     ]
    },
    {
     "data": {
      "text/html": [
       "<div>\n",
       "<style scoped>\n",
       "    .dataframe tbody tr th:only-of-type {\n",
       "        vertical-align: middle;\n",
       "    }\n",
       "\n",
       "    .dataframe tbody tr th {\n",
       "        vertical-align: top;\n",
       "    }\n",
       "\n",
       "    .dataframe thead th {\n",
       "        text-align: right;\n",
       "    }\n",
       "</style>\n",
       "<table border=\"1\" class=\"dataframe\">\n",
       "  <thead>\n",
       "    <tr style=\"text-align: right;\">\n",
       "      <th></th>\n",
       "      <th>n_estimators</th>\n",
       "      <th>val_rmse</th>\n",
       "    </tr>\n",
       "  </thead>\n",
       "  <tbody>\n",
       "    <tr>\n",
       "      <th>1</th>\n",
       "      <td>200</td>\n",
       "      <td>24275.707034</td>\n",
       "    </tr>\n",
       "    <tr>\n",
       "      <th>0</th>\n",
       "      <td>150</td>\n",
       "      <td>24309.345034</td>\n",
       "    </tr>\n",
       "    <tr>\n",
       "      <th>2</th>\n",
       "      <td>250</td>\n",
       "      <td>24326.918753</td>\n",
       "    </tr>\n",
       "    <tr>\n",
       "      <th>5</th>\n",
       "      <td>1050</td>\n",
       "      <td>24328.918102</td>\n",
       "    </tr>\n",
       "    <tr>\n",
       "      <th>4</th>\n",
       "      <td>1000</td>\n",
       "      <td>24329.323213</td>\n",
       "    </tr>\n",
       "  </tbody>\n",
       "</table>\n",
       "</div>"
      ],
      "text/plain": [
       "   n_estimators      val_rmse\n",
       "1           200  24275.707034\n",
       "0           150  24309.345034\n",
       "2           250  24326.918753\n",
       "5          1050  24328.918102\n",
       "4          1000  24329.323213"
      ]
     },
     "execution_count": 72,
     "metadata": {},
     "output_type": "execute_result"
    }
   ],
   "source": [
    "n_estimator_vals = [150,200,250, 950,1000,1050]\n",
    "results = []\n",
    "for value in n_estimator_vals:\n",
    "    print(f'Training XGB with n_estimators={value}')\n",
    "    model = XGBRegressor(learning_rate=0.09, random_state=42, n_estimators=value)\n",
    "    model.fit(X_train, y_train)\n",
    "    y_preds = model.predict(X_val)\n",
    "    val_rmse = rmse(y_val, y_preds)\n",
    "    results.append({'n_estimators':value, 'val_rmse':val_rmse})\n",
    "\n",
    "results_df = pd.DataFrame(results)\n",
    "results_df.sort_values(by='val_rmse').head(5)"
   ]
  },
  {
   "cell_type": "code",
   "execution_count": null,
   "id": "e3519532-e8d3-4c6d-be5b-d60571210440",
   "metadata": {},
   "outputs": [],
   "source": []
  },
  {
   "cell_type": "code",
   "execution_count": 78,
   "id": "cc786bc8-b15a-42a3-8331-d3d9bd86e6f5",
   "metadata": {},
   "outputs": [
    {
     "name": "stdout",
     "output_type": "stream",
     "text": [
      "Training model with max_depth: None\n",
      "Training model with max_depth: 3\n",
      "Training model with max_depth: 5\n",
      "Training model with max_depth: 10\n"
     ]
    },
    {
     "data": {
      "text/html": [
       "<div>\n",
       "<style scoped>\n",
       "    .dataframe tbody tr th:only-of-type {\n",
       "        vertical-align: middle;\n",
       "    }\n",
       "\n",
       "    .dataframe tbody tr th {\n",
       "        vertical-align: top;\n",
       "    }\n",
       "\n",
       "    .dataframe thead th {\n",
       "        text-align: right;\n",
       "    }\n",
       "</style>\n",
       "<table border=\"1\" class=\"dataframe\">\n",
       "  <thead>\n",
       "    <tr style=\"text-align: right;\">\n",
       "      <th></th>\n",
       "      <th>n_estimators</th>\n",
       "      <th>rmse</th>\n",
       "    </tr>\n",
       "  </thead>\n",
       "  <tbody>\n",
       "    <tr>\n",
       "      <th>0</th>\n",
       "      <td>NaN</td>\n",
       "      <td>24275.707034</td>\n",
       "    </tr>\n",
       "    <tr>\n",
       "      <th>2</th>\n",
       "      <td>5.0</td>\n",
       "      <td>24320.299998</td>\n",
       "    </tr>\n",
       "    <tr>\n",
       "      <th>1</th>\n",
       "      <td>3.0</td>\n",
       "      <td>25481.793343</td>\n",
       "    </tr>\n",
       "    <tr>\n",
       "      <th>3</th>\n",
       "      <td>10.0</td>\n",
       "      <td>28321.271158</td>\n",
       "    </tr>\n",
       "  </tbody>\n",
       "</table>\n",
       "</div>"
      ],
      "text/plain": [
       "   n_estimators          rmse\n",
       "0           NaN  24275.707034\n",
       "2           5.0  24320.299998\n",
       "1           3.0  25481.793343\n",
       "3          10.0  28321.271158"
      ]
     },
     "execution_count": 78,
     "metadata": {},
     "output_type": "execute_result"
    }
   ],
   "source": [
    "# 200 has won the competition\n",
    "max_depth_vals = [None, 3, 5, 10]\n",
    "results = []\n",
    "for value in max_depth_vals:\n",
    "    print(f'Training model with max_depth: {value}')\n",
    "    model = XGBRegressor(learning_rate=0.09, n_estimators=200, max_depth=value, random_state=42)\n",
    "    model.fit(X_train, y_train)\n",
    "    y_preds = model.predict(X_val)\n",
    "    val_rmse = rmse(y_val, y_preds)\n",
    "    results.append({'n_estimators':value, 'rmse':val_rmse})\n",
    "results_df = pd.DataFrame(results).sort_values(by='rmse')\n",
    "results_df"
   ]
  },
  {
   "cell_type": "code",
   "execution_count": 80,
   "id": "ba5f0d93-e633-4157-bf98-4f610e70f436",
   "metadata": {},
   "outputs": [
    {
     "name": "stdout",
     "output_type": "stream",
     "text": [
      "Training model with max_depth: None\n",
      "Training model with max_depth: 1\n",
      "Training model with max_depth: 4\n",
      "Training model with max_depth: 6\n",
      "Training model with max_depth: 11\n",
      "Training model with max_depth: 12\n"
     ]
    },
    {
     "data": {
      "text/html": [
       "<div>\n",
       "<style scoped>\n",
       "    .dataframe tbody tr th:only-of-type {\n",
       "        vertical-align: middle;\n",
       "    }\n",
       "\n",
       "    .dataframe tbody tr th {\n",
       "        vertical-align: top;\n",
       "    }\n",
       "\n",
       "    .dataframe thead th {\n",
       "        text-align: right;\n",
       "    }\n",
       "</style>\n",
       "<table border=\"1\" class=\"dataframe\">\n",
       "  <thead>\n",
       "    <tr style=\"text-align: right;\">\n",
       "      <th></th>\n",
       "      <th>n_estimators</th>\n",
       "      <th>rmse</th>\n",
       "    </tr>\n",
       "  </thead>\n",
       "  <tbody>\n",
       "    <tr>\n",
       "      <th>0</th>\n",
       "      <td>NaN</td>\n",
       "      <td>24275.707034</td>\n",
       "    </tr>\n",
       "    <tr>\n",
       "      <th>3</th>\n",
       "      <td>6.0</td>\n",
       "      <td>24275.707034</td>\n",
       "    </tr>\n",
       "    <tr>\n",
       "      <th>2</th>\n",
       "      <td>4.0</td>\n",
       "      <td>25412.178498</td>\n",
       "    </tr>\n",
       "    <tr>\n",
       "      <th>4</th>\n",
       "      <td>11.0</td>\n",
       "      <td>28063.692131</td>\n",
       "    </tr>\n",
       "    <tr>\n",
       "      <th>5</th>\n",
       "      <td>12.0</td>\n",
       "      <td>28636.385247</td>\n",
       "    </tr>\n",
       "    <tr>\n",
       "      <th>1</th>\n",
       "      <td>1.0</td>\n",
       "      <td>31726.113913</td>\n",
       "    </tr>\n",
       "  </tbody>\n",
       "</table>\n",
       "</div>"
      ],
      "text/plain": [
       "   n_estimators          rmse\n",
       "0           NaN  24275.707034\n",
       "3           6.0  24275.707034\n",
       "2           4.0  25412.178498\n",
       "4          11.0  28063.692131\n",
       "5          12.0  28636.385247\n",
       "1           1.0  31726.113913"
      ]
     },
     "execution_count": 80,
     "metadata": {},
     "output_type": "execute_result"
    }
   ],
   "source": [
    "# 200 has won the competition\n",
    "max_depth_vals = [None, 1, 4, 6, 11, 12]\n",
    "results = []\n",
    "for value in max_depth_vals:\n",
    "    print(f'Training model with max_depth: {value}')\n",
    "    model = XGBRegressor(learning_rate=0.09, n_estimators=200, max_depth=value, random_state=42)\n",
    "    model.fit(X_train, y_train)\n",
    "    y_preds = model.predict(X_val)\n",
    "    val_rmse = rmse(y_val, y_preds)\n",
    "    results.append({'n_estimators':value, 'rmse':val_rmse})\n",
    "results_df = pd.DataFrame(results).sort_values(by='rmse')\n",
    "results_df"
   ]
  },
  {
   "cell_type": "code",
   "execution_count": 84,
   "id": "a2523a52-2e3b-4414-a498-4ba5ffdf783e",
   "metadata": {},
   "outputs": [
    {
     "data": {
      "text/html": [
       "<div>\n",
       "<style scoped>\n",
       "    .dataframe tbody tr th:only-of-type {\n",
       "        vertical-align: middle;\n",
       "    }\n",
       "\n",
       "    .dataframe tbody tr th {\n",
       "        vertical-align: top;\n",
       "    }\n",
       "\n",
       "    .dataframe thead th {\n",
       "        text-align: right;\n",
       "    }\n",
       "</style>\n",
       "<table border=\"1\" class=\"dataframe\">\n",
       "  <thead>\n",
       "    <tr style=\"text-align: right;\">\n",
       "      <th></th>\n",
       "      <th>Id</th>\n",
       "      <th>SalePrice</th>\n",
       "    </tr>\n",
       "  </thead>\n",
       "  <tbody>\n",
       "    <tr>\n",
       "      <th>0</th>\n",
       "      <td>1461</td>\n",
       "      <td>120976.335938</td>\n",
       "    </tr>\n",
       "    <tr>\n",
       "      <th>1</th>\n",
       "      <td>1462</td>\n",
       "      <td>161740.828125</td>\n",
       "    </tr>\n",
       "    <tr>\n",
       "      <th>2</th>\n",
       "      <td>1463</td>\n",
       "      <td>186844.984375</td>\n",
       "    </tr>\n",
       "    <tr>\n",
       "      <th>3</th>\n",
       "      <td>1464</td>\n",
       "      <td>197040.015625</td>\n",
       "    </tr>\n",
       "    <tr>\n",
       "      <th>4</th>\n",
       "      <td>1465</td>\n",
       "      <td>195623.203125</td>\n",
       "    </tr>\n",
       "    <tr>\n",
       "      <th>...</th>\n",
       "      <td>...</td>\n",
       "      <td>...</td>\n",
       "    </tr>\n",
       "    <tr>\n",
       "      <th>1454</th>\n",
       "      <td>2915</td>\n",
       "      <td>79241.382812</td>\n",
       "    </tr>\n",
       "    <tr>\n",
       "      <th>1455</th>\n",
       "      <td>2916</td>\n",
       "      <td>77405.296875</td>\n",
       "    </tr>\n",
       "    <tr>\n",
       "      <th>1456</th>\n",
       "      <td>2917</td>\n",
       "      <td>164899.046875</td>\n",
       "    </tr>\n",
       "    <tr>\n",
       "      <th>1457</th>\n",
       "      <td>2918</td>\n",
       "      <td>120233.054688</td>\n",
       "    </tr>\n",
       "    <tr>\n",
       "      <th>1458</th>\n",
       "      <td>2919</td>\n",
       "      <td>221443.812500</td>\n",
       "    </tr>\n",
       "  </tbody>\n",
       "</table>\n",
       "<p>1459 rows × 2 columns</p>\n",
       "</div>"
      ],
      "text/plain": [
       "        Id      SalePrice\n",
       "0     1461  120976.335938\n",
       "1     1462  161740.828125\n",
       "2     1463  186844.984375\n",
       "3     1464  197040.015625\n",
       "4     1465  195623.203125\n",
       "...    ...            ...\n",
       "1454  2915   79241.382812\n",
       "1455  2916   77405.296875\n",
       "1456  2917  164899.046875\n",
       "1457  2918  120233.054688\n",
       "1458  2919  221443.812500\n",
       "\n",
       "[1459 rows x 2 columns]"
      ]
     },
     "execution_count": 84,
     "metadata": {},
     "output_type": "execute_result"
    }
   ],
   "source": [
    "# Let's make predictions nad see how much further we got\n",
    "model = XGBRegressor(learning_rate=0.09, n_estimators=200, max_depth=None, random_state=42)\n",
    "model.fit(train_proc, y_true)\n",
    "y_preds = model.predict(test_proc)\n",
    "submission_xg_df = pd.DataFrame({'Id':test_raw['Id'], 'SalePrice': y_preds})\n",
    "submission_xg_df"
   ]
  },
  {
   "cell_type": "code",
   "execution_count": 85,
   "id": "72ad0f42-f52e-4938-945a-9181a47c0a5b",
   "metadata": {},
   "outputs": [],
   "source": [
    "submission_xg_df.to_csv('submission_xgb_tunned.csv',index=False)"
   ]
  },
  {
   "cell_type": "code",
   "execution_count": 87,
   "id": "2b555c9f-b61a-4c55-a5b7-8225c5b4fc33",
   "metadata": {},
   "outputs": [
    {
     "data": {
      "image/png": "[encoded data removed]",
      "text/plain": [
       "<Figure size 1500x1200 with 1 Axes>"
      ]
     },
     "metadata": {},
     "output_type": "display_data"
    }
   ],
   "source": [
    "img = mpimg.imread(r\"C:\\Users\\Adam\\Desktop\\main\\programming\\machine learning\\house prices regression\\reports\\xgb_tunned.png\")\n",
    "plt.figure(figsize=(15,12))\n",
    "plt.imshow(img)\n",
    "plt.axis('off')\n",
    "plt.show()"
   ]
  },
  {
   "cell_type": "markdown",
   "id": "341c5701-b15e-4ec7-978e-8b9f18ce3d29",
   "metadata": {},
   "source": [
    "### NOTE \n",
    "With this score we have almost did better than best version of dnns. Let's move further. Next model to tunne is Random Forest Regressor. "
   ]
  },
  {
   "cell_type": "code",
   "execution_count": 89,
   "id": "197edae8-502d-4ae9-8a25-9f5d0a1ec4e7",
   "metadata": {},
   "outputs": [
    {
     "name": "stdout",
     "output_type": "stream",
     "text": [
      "Training model with n_estimators=100\n",
      "Training model with n_estimators=200\n",
      "Training model with n_estimators=300\n",
      "Training model with n_estimators=400\n",
      "Training model with n_estimators=500\n",
      "Training model with n_estimators=800\n",
      "Training model with n_estimators=1000\n"
     ]
    },
    {
     "data": {
      "text/html": [
       "<div>\n",
       "<style scoped>\n",
       "    .dataframe tbody tr th:only-of-type {\n",
       "        vertical-align: middle;\n",
       "    }\n",
       "\n",
       "    .dataframe tbody tr th {\n",
       "        vertical-align: top;\n",
       "    }\n",
       "\n",
       "    .dataframe thead th {\n",
       "        text-align: right;\n",
       "    }\n",
       "</style>\n",
       "<table border=\"1\" class=\"dataframe\">\n",
       "  <thead>\n",
       "    <tr style=\"text-align: right;\">\n",
       "      <th></th>\n",
       "      <th>learning_rate</th>\n",
       "      <th>validation rmse</th>\n",
       "    </tr>\n",
       "  </thead>\n",
       "  <tbody>\n",
       "    <tr>\n",
       "      <th>0</th>\n",
       "      <td>100</td>\n",
       "      <td>28853.150088</td>\n",
       "    </tr>\n",
       "    <tr>\n",
       "      <th>1</th>\n",
       "      <td>200</td>\n",
       "      <td>28806.578856</td>\n",
       "    </tr>\n",
       "    <tr>\n",
       "      <th>2</th>\n",
       "      <td>300</td>\n",
       "      <td>28819.863304</td>\n",
       "    </tr>\n",
       "    <tr>\n",
       "      <th>3</th>\n",
       "      <td>400</td>\n",
       "      <td>28663.712617</td>\n",
       "    </tr>\n",
       "    <tr>\n",
       "      <th>4</th>\n",
       "      <td>500</td>\n",
       "      <td>28726.831723</td>\n",
       "    </tr>\n",
       "    <tr>\n",
       "      <th>5</th>\n",
       "      <td>800</td>\n",
       "      <td>28737.520243</td>\n",
       "    </tr>\n",
       "    <tr>\n",
       "      <th>6</th>\n",
       "      <td>1000</td>\n",
       "      <td>28745.502941</td>\n",
       "    </tr>\n",
       "  </tbody>\n",
       "</table>\n",
       "</div>"
      ],
      "text/plain": [
       "   learning_rate  validation rmse\n",
       "0            100     28853.150088\n",
       "1            200     28806.578856\n",
       "2            300     28819.863304\n",
       "3            400     28663.712617\n",
       "4            500     28726.831723\n",
       "5            800     28737.520243\n",
       "6           1000     28745.502941"
      ]
     },
     "execution_count": 89,
     "metadata": {},
     "output_type": "execute_result"
    }
   ],
   "source": [
    "# 2.Hyperparameter tunning. RandomForestRegressor\n",
    "n_estimators = [100,200,300,400,500,800,1000]\n",
    "\n",
    "results = []\n",
    "for value in n_estimators:\n",
    "    print(f'Training model with n_estimators={value}')\n",
    "    model = RandomForestRegressor(n_estimators=value ,random_state=42)\n",
    "    model.fit(X_train, y_train)\n",
    "    y_preds = model.predict(X_val)\n",
    "    val_rmse = rmse(y_val, y_preds)\n",
    "    results.append({'learning_rate':value, 'validation rmse':val_rmse})\n",
    "results_df = pd.DataFrame(results)\n",
    "results_df"
   ]
  },
  {
   "cell_type": "code",
   "execution_count": 90,
   "id": "1d451b1a-dec7-4b47-8636-a702482cdf96",
   "metadata": {},
   "outputs": [
    {
     "name": "stdout",
     "output_type": "stream",
     "text": [
      "Training model with n_estimators=50\n",
      "Training model with n_estimators=100\n",
      "Training model with n_estimators=150\n",
      "Training model with n_estimators=180\n"
     ]
    },
    {
     "data": {
      "text/html": [
       "<div>\n",
       "<style scoped>\n",
       "    .dataframe tbody tr th:only-of-type {\n",
       "        vertical-align: middle;\n",
       "    }\n",
       "\n",
       "    .dataframe tbody tr th {\n",
       "        vertical-align: top;\n",
       "    }\n",
       "\n",
       "    .dataframe thead th {\n",
       "        text-align: right;\n",
       "    }\n",
       "</style>\n",
       "<table border=\"1\" class=\"dataframe\">\n",
       "  <thead>\n",
       "    <tr style=\"text-align: right;\">\n",
       "      <th></th>\n",
       "      <th>learning_rate</th>\n",
       "      <th>validation rmse</th>\n",
       "    </tr>\n",
       "  </thead>\n",
       "  <tbody>\n",
       "    <tr>\n",
       "      <th>0</th>\n",
       "      <td>50</td>\n",
       "      <td>29614.597587</td>\n",
       "    </tr>\n",
       "    <tr>\n",
       "      <th>1</th>\n",
       "      <td>100</td>\n",
       "      <td>28853.150088</td>\n",
       "    </tr>\n",
       "    <tr>\n",
       "      <th>2</th>\n",
       "      <td>150</td>\n",
       "      <td>28553.533021</td>\n",
       "    </tr>\n",
       "    <tr>\n",
       "      <th>3</th>\n",
       "      <td>180</td>\n",
       "      <td>28644.605843</td>\n",
       "    </tr>\n",
       "  </tbody>\n",
       "</table>\n",
       "</div>"
      ],
      "text/plain": [
       "   learning_rate  validation rmse\n",
       "0             50     29614.597587\n",
       "1            100     28853.150088\n",
       "2            150     28553.533021\n",
       "3            180     28644.605843"
      ]
     },
     "execution_count": 90,
     "metadata": {},
     "output_type": "execute_result"
    }
   ],
   "source": [
    "n_estimators = [50,100,150,180]\n",
    "\n",
    "results = []\n",
    "for value in n_estimators:\n",
    "    print(f'Training model with n_estimators={value}')\n",
    "    model = RandomForestRegressor(n_estimators=value ,random_state=42)\n",
    "    model.fit(X_train, y_train)\n",
    "    y_preds = model.predict(X_val)\n",
    "    val_rmse = rmse(y_val, y_preds)\n",
    "    results.append({'learning_rate':value, 'validation rmse':val_rmse})\n",
    "results_df = pd.DataFrame(results)\n",
    "results_df"
   ]
  },
  {
   "cell_type": "code",
   "execution_count": 99,
   "id": "43d17ba7-7c68-495c-985b-35777a660acd",
   "metadata": {},
   "outputs": [
    {
     "name": "stdout",
     "output_type": "stream",
     "text": [
      "Training model with n_estimators=10\n",
      "Training model with n_estimators=20\n",
      "Training model with n_estimators=30\n",
      "Training model with n_estimators=40\n",
      "Training model with n_estimators=50\n"
     ]
    },
    {
     "data": {
      "text/html": [
       "<div>\n",
       "<style scoped>\n",
       "    .dataframe tbody tr th:only-of-type {\n",
       "        vertical-align: middle;\n",
       "    }\n",
       "\n",
       "    .dataframe tbody tr th {\n",
       "        vertical-align: top;\n",
       "    }\n",
       "\n",
       "    .dataframe thead th {\n",
       "        text-align: right;\n",
       "    }\n",
       "</style>\n",
       "<table border=\"1\" class=\"dataframe\">\n",
       "  <thead>\n",
       "    <tr style=\"text-align: right;\">\n",
       "      <th></th>\n",
       "      <th>max_depth_vals</th>\n",
       "      <th>validation rmse</th>\n",
       "    </tr>\n",
       "  </thead>\n",
       "  <tbody>\n",
       "    <tr>\n",
       "      <th>3</th>\n",
       "      <td>40</td>\n",
       "      <td>28853.150088</td>\n",
       "    </tr>\n",
       "    <tr>\n",
       "      <th>2</th>\n",
       "      <td>30</td>\n",
       "      <td>28853.150088</td>\n",
       "    </tr>\n",
       "    <tr>\n",
       "      <th>4</th>\n",
       "      <td>50</td>\n",
       "      <td>28853.150088</td>\n",
       "    </tr>\n",
       "    <tr>\n",
       "      <th>0</th>\n",
       "      <td>10</td>\n",
       "      <td>29015.902892</td>\n",
       "    </tr>\n",
       "    <tr>\n",
       "      <th>1</th>\n",
       "      <td>20</td>\n",
       "      <td>29142.389599</td>\n",
       "    </tr>\n",
       "  </tbody>\n",
       "</table>\n",
       "</div>"
      ],
      "text/plain": [
       "   max_depth_vals  validation rmse\n",
       "3              40     28853.150088\n",
       "2              30     28853.150088\n",
       "4              50     28853.150088\n",
       "0              10     29015.902892\n",
       "1              20     29142.389599"
      ]
     },
     "execution_count": 99,
     "metadata": {},
     "output_type": "execute_result"
    }
   ],
   "source": [
    "# n_estimators=100\n",
    "max_depth_vals = [10,20,30,40,50]\n",
    "\n",
    "results = []\n",
    "for value in max_depth_vals:\n",
    "    print(f'Training model with n_estimators={value}')\n",
    "    model = RandomForestRegressor(n_estimators=100, max_depth=value, random_state=42)\n",
    "    model.fit(X_train, y_train)\n",
    "    y_preds = model.predict(X_val)\n",
    "    val_rmse = rmse(y_val, y_preds)\n",
    "    results.append({'max_depth_vals':value, 'validation rmse':val_rmse})\n",
    "results_df = pd.DataFrame(results).sort_values(by='validation rmse')\n",
    "results_df"
   ]
  },
  {
   "cell_type": "code",
   "execution_count": 97,
   "id": "7095cd58-0e50-4dfa-a9e8-a677567c4271",
   "metadata": {},
   "outputs": [
    {
     "data": {
      "text/plain": [
       "{'bootstrap': True,\n",
       " 'ccp_alpha': 0.0,\n",
       " 'criterion': 'squared_error',\n",
       " 'max_depth': 10,\n",
       " 'max_features': 1.0,\n",
       " 'max_leaf_nodes': None,\n",
       " 'max_samples': None,\n",
       " 'min_impurity_decrease': 0.0,\n",
       " 'min_samples_leaf': 1,\n",
       " 'min_samples_split': 2,\n",
       " 'min_weight_fraction_leaf': 0.0,\n",
       " 'monotonic_cst': None,\n",
       " 'n_estimators': 100,\n",
       " 'n_jobs': None,\n",
       " 'oob_score': False,\n",
       " 'random_state': 42,\n",
       " 'verbose': 0,\n",
       " 'warm_start': False}"
      ]
     },
     "execution_count": 97,
     "metadata": {},
     "output_type": "execute_result"
    }
   ],
   "source": [
    "model = RandomForestRegressor(n_estimators=100, max_depth=value, random_state=42)\n",
    "model.fit(X_train, y_train)\n",
    "model.get_params()"
   ]
  },
  {
   "cell_type": "code",
   "execution_count": 101,
   "id": "a5050599-f336-43c7-9f38-826843f61b62",
   "metadata": {},
   "outputs": [
    {
     "name": "stdout",
     "output_type": "stream",
     "text": [
      "Training model with n_estimators=2\n",
      "Training model with n_estimators=4\n",
      "Training model with n_estimators=5\n",
      "Training model with n_estimators=8\n",
      "Training model with n_estimators=10\n"
     ]
    },
    {
     "data": {
      "text/html": [
       "<div>\n",
       "<style scoped>\n",
       "    .dataframe tbody tr th:only-of-type {\n",
       "        vertical-align: middle;\n",
       "    }\n",
       "\n",
       "    .dataframe tbody tr th {\n",
       "        vertical-align: top;\n",
       "    }\n",
       "\n",
       "    .dataframe thead th {\n",
       "        text-align: right;\n",
       "    }\n",
       "</style>\n",
       "<table border=\"1\" class=\"dataframe\">\n",
       "  <thead>\n",
       "    <tr style=\"text-align: right;\">\n",
       "      <th></th>\n",
       "      <th>max_depth_vals</th>\n",
       "      <th>validation rmse</th>\n",
       "    </tr>\n",
       "  </thead>\n",
       "  <tbody>\n",
       "    <tr>\n",
       "      <th>0</th>\n",
       "      <td>2</td>\n",
       "      <td>28853.150088</td>\n",
       "    </tr>\n",
       "    <tr>\n",
       "      <th>1</th>\n",
       "      <td>4</td>\n",
       "      <td>28995.736815</td>\n",
       "    </tr>\n",
       "    <tr>\n",
       "      <th>2</th>\n",
       "      <td>5</td>\n",
       "      <td>28985.819852</td>\n",
       "    </tr>\n",
       "    <tr>\n",
       "      <th>3</th>\n",
       "      <td>8</td>\n",
       "      <td>29038.409909</td>\n",
       "    </tr>\n",
       "    <tr>\n",
       "      <th>4</th>\n",
       "      <td>10</td>\n",
       "      <td>29318.572282</td>\n",
       "    </tr>\n",
       "  </tbody>\n",
       "</table>\n",
       "</div>"
      ],
      "text/plain": [
       "   max_depth_vals  validation rmse\n",
       "0               2     28853.150088\n",
       "1               4     28995.736815\n",
       "2               5     28985.819852\n",
       "3               8     29038.409909\n",
       "4              10     29318.572282"
      ]
     },
     "execution_count": 101,
     "metadata": {},
     "output_type": "execute_result"
    }
   ],
   "source": [
    "# n_estimators=100\n",
    "min_samples = [2,4,5,8,10]\n",
    "\n",
    "results = []\n",
    "for value in min_samples:\n",
    "    print(f'Training model with n_estimators={value}')\n",
    "    model = RandomForestRegressor(n_estimators=100, max_depth=40, min_samples_split=value, random_state=42)\n",
    "    model.fit(X_train, y_train)\n",
    "    y_preds = model.predict(X_val)\n",
    "    val_rmse = rmse(y_val, y_preds)\n",
    "    results.append({'max_depth_vals':value, 'validation rmse':val_rmse})\n",
    "results_df = pd.DataFrame(results)\n",
    "results_df"
   ]
  },
  {
   "cell_type": "code",
   "execution_count": 105,
   "id": "965d22a1-2da2-4469-af79-ce601ffecd56",
   "metadata": {},
   "outputs": [
    {
     "name": "stdout",
     "output_type": "stream",
     "text": [
      "Training model with min_samples_leaf=1\n",
      "Training model with min_samples_leaf=2\n",
      "Training model with min_samples_leaf=3\n",
      "Training model with min_samples_leaf=4\n",
      "Training model with min_samples_leaf=5\n"
     ]
    },
    {
     "data": {
      "text/html": [
       "<div>\n",
       "<style scoped>\n",
       "    .dataframe tbody tr th:only-of-type {\n",
       "        vertical-align: middle;\n",
       "    }\n",
       "\n",
       "    .dataframe tbody tr th {\n",
       "        vertical-align: top;\n",
       "    }\n",
       "\n",
       "    .dataframe thead th {\n",
       "        text-align: right;\n",
       "    }\n",
       "</style>\n",
       "<table border=\"1\" class=\"dataframe\">\n",
       "  <thead>\n",
       "    <tr style=\"text-align: right;\">\n",
       "      <th></th>\n",
       "      <th>min_samples_leaf</th>\n",
       "      <th>validation rmse</th>\n",
       "    </tr>\n",
       "  </thead>\n",
       "  <tbody>\n",
       "    <tr>\n",
       "      <th>0</th>\n",
       "      <td>1</td>\n",
       "      <td>28853.150088</td>\n",
       "    </tr>\n",
       "    <tr>\n",
       "      <th>1</th>\n",
       "      <td>2</td>\n",
       "      <td>29190.363677</td>\n",
       "    </tr>\n",
       "    <tr>\n",
       "      <th>2</th>\n",
       "      <td>3</td>\n",
       "      <td>29435.766357</td>\n",
       "    </tr>\n",
       "    <tr>\n",
       "      <th>3</th>\n",
       "      <td>4</td>\n",
       "      <td>30504.075953</td>\n",
       "    </tr>\n",
       "    <tr>\n",
       "      <th>4</th>\n",
       "      <td>5</td>\n",
       "      <td>31310.636345</td>\n",
       "    </tr>\n",
       "  </tbody>\n",
       "</table>\n",
       "</div>"
      ],
      "text/plain": [
       "   min_samples_leaf  validation rmse\n",
       "0                 1     28853.150088\n",
       "1                 2     29190.363677\n",
       "2                 3     29435.766357\n",
       "3                 4     30504.075953\n",
       "4                 5     31310.636345"
      ]
     },
     "execution_count": 105,
     "metadata": {},
     "output_type": "execute_result"
    }
   ],
   "source": [
    "# n_estimators=100\n",
    "min_samples_leaf_vals = [1,2,3,4,5]\n",
    "\n",
    "results = []\n",
    "for value in min_samples_leaf_vals:\n",
    "    print(f'Training model with min_samples_leaf={value}')\n",
    "    model = RandomForestRegressor(n_estimators=100, max_depth=40, min_samples_split=2, min_samples_leaf=value, random_state=42)\n",
    "    model.fit(X_train, y_train)\n",
    "    y_preds = model.predict(X_val)\n",
    "    val_rmse = rmse(y_val, y_preds)\n",
    "    results.append({'min_samples_leaf':value, 'validation rmse':val_rmse})\n",
    "results_df = pd.DataFrame(results)\n",
    "results_df"
   ]
  },
  {
   "cell_type": "code",
   "execution_count": 108,
   "id": "c163dc65-a619-4070-9a68-6dfd10e69cc0",
   "metadata": {},
   "outputs": [
    {
     "name": "stdout",
     "output_type": "stream",
     "text": [
      "Training model with alpha=0.001\n"
     ]
    },
    {
     "name": "stderr",
     "output_type": "stream",
     "text": [
      "C:\\Users\\Adam\\anaconda3\\envs\\housing-prices\\lib\\site-packages\\sklearn\\linear_model\\_coordinate_descent.py:695: ConvergenceWarning: Objective did not converge. You might want to increase the number of iterations, check the scale of the features or consider increasing regularisation. Duality gap: 2.664e+11, tolerance: 6.967e+08\n",
      "  model = cd_fast.enet_coordinate_descent(\n",
      "C:\\Users\\Adam\\anaconda3\\envs\\housing-prices\\lib\\site-packages\\sklearn\\linear_model\\_coordinate_descent.py:695: ConvergenceWarning: Objective did not converge. You might want to increase the number of iterations, check the scale of the features or consider increasing regularisation. Duality gap: 2.654e+11, tolerance: 6.967e+08\n",
      "  model = cd_fast.enet_coordinate_descent(\n"
     ]
    },
    {
     "name": "stdout",
     "output_type": "stream",
     "text": [
      "Training model with alpha=0.01\n",
      "Training model with alpha=0.1\n",
      "Training model with alpha=1\n"
     ]
    },
    {
     "name": "stderr",
     "output_type": "stream",
     "text": [
      "C:\\Users\\Adam\\anaconda3\\envs\\housing-prices\\lib\\site-packages\\sklearn\\linear_model\\_coordinate_descent.py:695: ConvergenceWarning: Objective did not converge. You might want to increase the number of iterations, check the scale of the features or consider increasing regularisation. Duality gap: 2.551e+11, tolerance: 6.967e+08\n",
      "  model = cd_fast.enet_coordinate_descent(\n",
      "C:\\Users\\Adam\\anaconda3\\envs\\housing-prices\\lib\\site-packages\\sklearn\\linear_model\\_coordinate_descent.py:695: ConvergenceWarning: Objective did not converge. You might want to increase the number of iterations, check the scale of the features or consider increasing regularisation. Duality gap: 4.740e+10, tolerance: 6.967e+08\n",
      "  model = cd_fast.enet_coordinate_descent(\n"
     ]
    },
    {
     "data": {
      "text/html": [
       "<div>\n",
       "<style scoped>\n",
       "    .dataframe tbody tr th:only-of-type {\n",
       "        vertical-align: middle;\n",
       "    }\n",
       "\n",
       "    .dataframe tbody tr th {\n",
       "        vertical-align: top;\n",
       "    }\n",
       "\n",
       "    .dataframe thead th {\n",
       "        text-align: right;\n",
       "    }\n",
       "</style>\n",
       "<table border=\"1\" class=\"dataframe\">\n",
       "  <thead>\n",
       "    <tr style=\"text-align: right;\">\n",
       "      <th></th>\n",
       "      <th>alpha</th>\n",
       "      <th>validation rmse</th>\n",
       "    </tr>\n",
       "  </thead>\n",
       "  <tbody>\n",
       "    <tr>\n",
       "      <th>3</th>\n",
       "      <td>1.000</td>\n",
       "      <td>31003.796030</td>\n",
       "    </tr>\n",
       "    <tr>\n",
       "      <th>2</th>\n",
       "      <td>0.100</td>\n",
       "      <td>31059.594797</td>\n",
       "    </tr>\n",
       "    <tr>\n",
       "      <th>1</th>\n",
       "      <td>0.010</td>\n",
       "      <td>31065.814424</td>\n",
       "    </tr>\n",
       "    <tr>\n",
       "      <th>0</th>\n",
       "      <td>0.001</td>\n",
       "      <td>31068.218479</td>\n",
       "    </tr>\n",
       "  </tbody>\n",
       "</table>\n",
       "</div>"
      ],
      "text/plain": [
       "   alpha  validation rmse\n",
       "3  1.000     31003.796030\n",
       "2  0.100     31059.594797\n",
       "1  0.010     31065.814424\n",
       "0  0.001     31068.218479"
      ]
     },
     "execution_count": 108,
     "metadata": {},
     "output_type": "execute_result"
    }
   ],
   "source": [
    "# Lassso \n",
    "alpha_vals = [0.001,0.01,0.1,1]\n",
    "results = []\n",
    "for value in alpha_vals:\n",
    "    print(f'Training model with alpha={value}')\n",
    "    model = Lasso(alpha=value,random_state=42)\n",
    "    model.fit(X_train, y_train)\n",
    "    y_preds = model.predict(X_val)\n",
    "    val_rmse = rmse(y_val, y_preds)\n",
    "    results.append({'alpha':value, 'validation rmse':val_rmse})\n",
    "results_df = pd.DataFrame(results)\n",
    "results_df.sort_values(by='validation rmse')"
   ]
  },
  {
   "cell_type": "code",
   "execution_count": 111,
   "id": "c968bc90-add4-48ac-9a3a-7de2c816d442",
   "metadata": {},
   "outputs": [
    {
     "name": "stdout",
     "output_type": "stream",
     "text": [
      "Training model with alpha=0.8\n",
      "Training model with alpha=1\n"
     ]
    },
    {
     "name": "stderr",
     "output_type": "stream",
     "text": [
      "C:\\Users\\Adam\\anaconda3\\envs\\housing-prices\\lib\\site-packages\\sklearn\\linear_model\\_coordinate_descent.py:695: ConvergenceWarning: Objective did not converge. You might want to increase the number of iterations, check the scale of the features or consider increasing regularisation. Duality gap: 8.934e+10, tolerance: 6.967e+08\n",
      "  model = cd_fast.enet_coordinate_descent(\n",
      "C:\\Users\\Adam\\anaconda3\\envs\\housing-prices\\lib\\site-packages\\sklearn\\linear_model\\_coordinate_descent.py:695: ConvergenceWarning: Objective did not converge. You might want to increase the number of iterations, check the scale of the features or consider increasing regularisation. Duality gap: 4.740e+10, tolerance: 6.967e+08\n",
      "  model = cd_fast.enet_coordinate_descent(\n"
     ]
    },
    {
     "name": "stdout",
     "output_type": "stream",
     "text": [
      "Training model with alpha=1.2\n",
      "Training model with alpha=1.4\n"
     ]
    },
    {
     "name": "stderr",
     "output_type": "stream",
     "text": [
      "C:\\Users\\Adam\\anaconda3\\envs\\housing-prices\\lib\\site-packages\\sklearn\\linear_model\\_coordinate_descent.py:695: ConvergenceWarning: Objective did not converge. You might want to increase the number of iterations, check the scale of the features or consider increasing regularisation. Duality gap: 3.734e+10, tolerance: 6.967e+08\n",
      "  model = cd_fast.enet_coordinate_descent(\n",
      "C:\\Users\\Adam\\anaconda3\\envs\\housing-prices\\lib\\site-packages\\sklearn\\linear_model\\_coordinate_descent.py:695: ConvergenceWarning: Objective did not converge. You might want to increase the number of iterations, check the scale of the features or consider increasing regularisation. Duality gap: 5.006e+10, tolerance: 6.967e+08\n",
      "  model = cd_fast.enet_coordinate_descent(\n"
     ]
    },
    {
     "name": "stdout",
     "output_type": "stream",
     "text": [
      "Training model with alpha=1.6\n"
     ]
    },
    {
     "name": "stderr",
     "output_type": "stream",
     "text": [
      "C:\\Users\\Adam\\anaconda3\\envs\\housing-prices\\lib\\site-packages\\sklearn\\linear_model\\_coordinate_descent.py:695: ConvergenceWarning: Objective did not converge. You might want to increase the number of iterations, check the scale of the features or consider increasing regularisation. Duality gap: 5.034e+10, tolerance: 6.967e+08\n",
      "  model = cd_fast.enet_coordinate_descent(\n"
     ]
    },
    {
     "data": {
      "text/html": [
       "<div>\n",
       "<style scoped>\n",
       "    .dataframe tbody tr th:only-of-type {\n",
       "        vertical-align: middle;\n",
       "    }\n",
       "\n",
       "    .dataframe tbody tr th {\n",
       "        vertical-align: top;\n",
       "    }\n",
       "\n",
       "    .dataframe thead th {\n",
       "        text-align: right;\n",
       "    }\n",
       "</style>\n",
       "<table border=\"1\" class=\"dataframe\">\n",
       "  <thead>\n",
       "    <tr style=\"text-align: right;\">\n",
       "      <th></th>\n",
       "      <th>alpha</th>\n",
       "      <th>validation rmse</th>\n",
       "    </tr>\n",
       "  </thead>\n",
       "  <tbody>\n",
       "    <tr>\n",
       "      <th>4</th>\n",
       "      <td>1.6</td>\n",
       "      <td>30966.421620</td>\n",
       "    </tr>\n",
       "    <tr>\n",
       "      <th>3</th>\n",
       "      <td>1.4</td>\n",
       "      <td>30977.994764</td>\n",
       "    </tr>\n",
       "    <tr>\n",
       "      <th>2</th>\n",
       "      <td>1.2</td>\n",
       "      <td>30990.736409</td>\n",
       "    </tr>\n",
       "    <tr>\n",
       "      <th>1</th>\n",
       "      <td>1.0</td>\n",
       "      <td>31003.796030</td>\n",
       "    </tr>\n",
       "    <tr>\n",
       "      <th>0</th>\n",
       "      <td>0.8</td>\n",
       "      <td>31016.667778</td>\n",
       "    </tr>\n",
       "  </tbody>\n",
       "</table>\n",
       "</div>"
      ],
      "text/plain": [
       "   alpha  validation rmse\n",
       "4    1.6     30966.421620\n",
       "3    1.4     30977.994764\n",
       "2    1.2     30990.736409\n",
       "1    1.0     31003.796030\n",
       "0    0.8     31016.667778"
      ]
     },
     "execution_count": 111,
     "metadata": {},
     "output_type": "execute_result"
    }
   ],
   "source": [
    "# Lassso \n",
    "alpha_vals = [0.8,1,1.2,1.4,1.6]\n",
    "results = []\n",
    "for value in alpha_vals:\n",
    "    print(f'Training model with alpha={value}')\n",
    "    model = Lasso(alpha=value,random_state=42)\n",
    "    model.fit(X_train, y_train)\n",
    "    y_preds = model.predict(X_val)\n",
    "    val_rmse = rmse(y_val, y_preds)\n",
    "    results.append({'alpha':value, 'validation rmse':val_rmse})\n",
    "results_df = pd.DataFrame(results)\n",
    "results_df.sort_values(by='validation rmse')"
   ]
  },
  {
   "cell_type": "code",
   "execution_count": 117,
   "id": "11f66d82-6a02-43f7-b5ac-0541ba25d87d",
   "metadata": {},
   "outputs": [
    {
     "name": "stdout",
     "output_type": "stream",
     "text": [
      "Training model with alpha=1.6\n"
     ]
    },
    {
     "name": "stderr",
     "output_type": "stream",
     "text": [
      "C:\\Users\\Adam\\anaconda3\\envs\\housing-prices\\lib\\site-packages\\sklearn\\linear_model\\_coordinate_descent.py:695: ConvergenceWarning: Objective did not converge. You might want to increase the number of iterations, check the scale of the features or consider increasing regularisation. Duality gap: 5.034e+10, tolerance: 6.967e+08\n",
      "  model = cd_fast.enet_coordinate_descent(\n",
      "C:\\Users\\Adam\\anaconda3\\envs\\housing-prices\\lib\\site-packages\\sklearn\\linear_model\\_coordinate_descent.py:695: ConvergenceWarning: Objective did not converge. You might want to increase the number of iterations, check the scale of the features or consider increasing regularisation. Duality gap: 5.090e+10, tolerance: 6.967e+08\n",
      "  model = cd_fast.enet_coordinate_descent(\n"
     ]
    },
    {
     "name": "stdout",
     "output_type": "stream",
     "text": [
      "Training model with alpha=2\n",
      "Training model with alpha=3\n"
     ]
    },
    {
     "name": "stderr",
     "output_type": "stream",
     "text": [
      "C:\\Users\\Adam\\anaconda3\\envs\\housing-prices\\lib\\site-packages\\sklearn\\linear_model\\_coordinate_descent.py:695: ConvergenceWarning: Objective did not converge. You might want to increase the number of iterations, check the scale of the features or consider increasing regularisation. Duality gap: 5.372e+10, tolerance: 6.967e+08\n",
      "  model = cd_fast.enet_coordinate_descent(\n",
      "C:\\Users\\Adam\\anaconda3\\envs\\housing-prices\\lib\\site-packages\\sklearn\\linear_model\\_coordinate_descent.py:695: ConvergenceWarning: Objective did not converge. You might want to increase the number of iterations, check the scale of the features or consider increasing regularisation. Duality gap: 5.486e+10, tolerance: 6.967e+08\n",
      "  model = cd_fast.enet_coordinate_descent(\n"
     ]
    },
    {
     "name": "stdout",
     "output_type": "stream",
     "text": [
      "Training model with alpha=5\n",
      "Training model with alpha=10\n",
      "Training model with alpha=100\n"
     ]
    },
    {
     "name": "stderr",
     "output_type": "stream",
     "text": [
      "C:\\Users\\Adam\\anaconda3\\envs\\housing-prices\\lib\\site-packages\\sklearn\\linear_model\\_coordinate_descent.py:695: ConvergenceWarning: Objective did not converge. You might want to increase the number of iterations, check the scale of the features or consider increasing regularisation. Duality gap: 3.903e+10, tolerance: 6.967e+08\n",
      "  model = cd_fast.enet_coordinate_descent(\n"
     ]
    },
    {
     "data": {
      "text/html": [
       "<div>\n",
       "<style scoped>\n",
       "    .dataframe tbody tr th:only-of-type {\n",
       "        vertical-align: middle;\n",
       "    }\n",
       "\n",
       "    .dataframe tbody tr th {\n",
       "        vertical-align: top;\n",
       "    }\n",
       "\n",
       "    .dataframe thead th {\n",
       "        text-align: right;\n",
       "    }\n",
       "</style>\n",
       "<table border=\"1\" class=\"dataframe\">\n",
       "  <thead>\n",
       "    <tr style=\"text-align: right;\">\n",
       "      <th></th>\n",
       "      <th>alpha</th>\n",
       "      <th>validation rmse</th>\n",
       "    </tr>\n",
       "  </thead>\n",
       "  <tbody>\n",
       "    <tr>\n",
       "      <th>5</th>\n",
       "      <td>100.0</td>\n",
       "      <td>30573.908636</td>\n",
       "    </tr>\n",
       "    <tr>\n",
       "      <th>4</th>\n",
       "      <td>10.0</td>\n",
       "      <td>30577.294711</td>\n",
       "    </tr>\n",
       "    <tr>\n",
       "      <th>3</th>\n",
       "      <td>5.0</td>\n",
       "      <td>30800.664529</td>\n",
       "    </tr>\n",
       "    <tr>\n",
       "      <th>2</th>\n",
       "      <td>3.0</td>\n",
       "      <td>30897.631482</td>\n",
       "    </tr>\n",
       "    <tr>\n",
       "      <th>1</th>\n",
       "      <td>2.0</td>\n",
       "      <td>30945.135955</td>\n",
       "    </tr>\n",
       "    <tr>\n",
       "      <th>0</th>\n",
       "      <td>1.6</td>\n",
       "      <td>30966.421620</td>\n",
       "    </tr>\n",
       "  </tbody>\n",
       "</table>\n",
       "</div>"
      ],
      "text/plain": [
       "   alpha  validation rmse\n",
       "5  100.0     30573.908636\n",
       "4   10.0     30577.294711\n",
       "3    5.0     30800.664529\n",
       "2    3.0     30897.631482\n",
       "1    2.0     30945.135955\n",
       "0    1.6     30966.421620"
      ]
     },
     "execution_count": 117,
     "metadata": {},
     "output_type": "execute_result"
    }
   ],
   "source": [
    "# Lassso \n",
    "alpha_vals = [1.6,2,3,5,10,100]\n",
    "results = []\n",
    "for value in alpha_vals:\n",
    "    print(f'Training model with alpha={value}')\n",
    "    model = Lasso(alpha=value,random_state=42)\n",
    "    model.fit(X_train, y_train)\n",
    "    y_preds = model.predict(X_val)\n",
    "    val_rmse = rmse(y_val, y_preds)\n",
    "    results.append({'alpha':value, 'validation rmse':val_rmse})\n",
    "results_df = pd.DataFrame(results)\n",
    "results_df.sort_values(by='validation rmse')"
   ]
  },
  {
   "cell_type": "code",
   "execution_count": 119,
   "id": "03d06801-b113-4a7c-b65f-9d331f85a85e",
   "metadata": {},
   "outputs": [
    {
     "name": "stdout",
     "output_type": "stream",
     "text": [
      "Training model with max_iter_val=1000\n",
      "Training model with max_iter_val=2000\n",
      "Training model with max_iter_val=3000\n",
      "Training model with max_iter_val=4000\n",
      "Training model with max_iter_val=5000\n"
     ]
    },
    {
     "data": {
      "text/html": [
       "<div>\n",
       "<style scoped>\n",
       "    .dataframe tbody tr th:only-of-type {\n",
       "        vertical-align: middle;\n",
       "    }\n",
       "\n",
       "    .dataframe tbody tr th {\n",
       "        vertical-align: top;\n",
       "    }\n",
       "\n",
       "    .dataframe thead th {\n",
       "        text-align: right;\n",
       "    }\n",
       "</style>\n",
       "<table border=\"1\" class=\"dataframe\">\n",
       "  <thead>\n",
       "    <tr style=\"text-align: right;\">\n",
       "      <th></th>\n",
       "      <th>max_iter_val</th>\n",
       "      <th>validation rmse</th>\n",
       "    </tr>\n",
       "  </thead>\n",
       "  <tbody>\n",
       "    <tr>\n",
       "      <th>0</th>\n",
       "      <td>1000</td>\n",
       "      <td>30573.908636</td>\n",
       "    </tr>\n",
       "    <tr>\n",
       "      <th>1</th>\n",
       "      <td>2000</td>\n",
       "      <td>30573.908636</td>\n",
       "    </tr>\n",
       "    <tr>\n",
       "      <th>2</th>\n",
       "      <td>3000</td>\n",
       "      <td>30573.908636</td>\n",
       "    </tr>\n",
       "    <tr>\n",
       "      <th>3</th>\n",
       "      <td>4000</td>\n",
       "      <td>30573.908636</td>\n",
       "    </tr>\n",
       "    <tr>\n",
       "      <th>4</th>\n",
       "      <td>5000</td>\n",
       "      <td>30573.908636</td>\n",
       "    </tr>\n",
       "  </tbody>\n",
       "</table>\n",
       "</div>"
      ],
      "text/plain": [
       "   max_iter_val  validation rmse\n",
       "0          1000     30573.908636\n",
       "1          2000     30573.908636\n",
       "2          3000     30573.908636\n",
       "3          4000     30573.908636\n",
       "4          5000     30573.908636"
      ]
     },
     "execution_count": 119,
     "metadata": {},
     "output_type": "execute_result"
    }
   ],
   "source": [
    "# Lassso \n",
    "max_iter_vals = [1000,2000,3000,4000,5000]\n",
    "results = []\n",
    "for value in max_iter_vals:\n",
    "    print(f'Training model with max_iter_val={value}')\n",
    "    model = Lasso(alpha=100, max_iter= value, random_state=42)\n",
    "    model.fit(X_train, y_train)\n",
    "    y_preds = model.predict(X_val)\n",
    "    val_rmse = rmse(y_val, y_preds)\n",
    "    results.append({'max_iter_val':value, 'validation rmse':val_rmse})\n",
    "results_df = pd.DataFrame(results)\n",
    "results_df.sort_values(by='validation rmse')"
   ]
  },
  {
   "cell_type": "code",
   "execution_count": 120,
   "id": "6df42008-65f8-4309-94ff-809750506acb",
   "metadata": {},
   "outputs": [
    {
     "name": "stdout",
     "output_type": "stream",
     "text": [
      "Training model with alpha=0.001\n",
      "Training model with alpha=0.01\n",
      "Training model with alpha=0.1\n",
      "Training model with alpha=1\n"
     ]
    },
    {
     "data": {
      "text/html": [
       "<div>\n",
       "<style scoped>\n",
       "    .dataframe tbody tr th:only-of-type {\n",
       "        vertical-align: middle;\n",
       "    }\n",
       "\n",
       "    .dataframe tbody tr th {\n",
       "        vertical-align: top;\n",
       "    }\n",
       "\n",
       "    .dataframe thead th {\n",
       "        text-align: right;\n",
       "    }\n",
       "</style>\n",
       "<table border=\"1\" class=\"dataframe\">\n",
       "  <thead>\n",
       "    <tr style=\"text-align: right;\">\n",
       "      <th></th>\n",
       "      <th>alpha</th>\n",
       "      <th>validation rmse</th>\n",
       "    </tr>\n",
       "  </thead>\n",
       "  <tbody>\n",
       "    <tr>\n",
       "      <th>3</th>\n",
       "      <td>1.000</td>\n",
       "      <td>31286.211130</td>\n",
       "    </tr>\n",
       "    <tr>\n",
       "      <th>2</th>\n",
       "      <td>0.100</td>\n",
       "      <td>31290.685499</td>\n",
       "    </tr>\n",
       "    <tr>\n",
       "      <th>1</th>\n",
       "      <td>0.010</td>\n",
       "      <td>31474.945686</td>\n",
       "    </tr>\n",
       "    <tr>\n",
       "      <th>0</th>\n",
       "      <td>0.001</td>\n",
       "      <td>31506.910920</td>\n",
       "    </tr>\n",
       "  </tbody>\n",
       "</table>\n",
       "</div>"
      ],
      "text/plain": [
       "   alpha  validation rmse\n",
       "3  1.000     31286.211130\n",
       "2  0.100     31290.685499\n",
       "1  0.010     31474.945686\n",
       "0  0.001     31506.910920"
      ]
     },
     "execution_count": 120,
     "metadata": {},
     "output_type": "execute_result"
    }
   ],
   "source": [
    "# Simmilar situation might happend with ridge regression but it is always worth to check it\n",
    "# Lassso \n",
    "alpha_vals = [0.001,0.01,0.1,1]\n",
    "results = []\n",
    "for value in alpha_vals:\n",
    "    print(f'Training model with alpha={value}')\n",
    "    model = Ridge(alpha=value, random_state=42)\n",
    "    model.fit(X_train, y_train)\n",
    "    y_preds = model.predict(X_val)\n",
    "    val_rmse = rmse(y_val, y_preds)\n",
    "    results.append({'alpha':value, 'validation rmse':val_rmse})\n",
    "results_df = pd.DataFrame(results)\n",
    "results_df.sort_values(by='validation rmse')"
   ]
  },
  {
   "cell_type": "code",
   "execution_count": 121,
   "id": "ecc57b2b-f565-4760-af7e-3ef4170f4593",
   "metadata": {},
   "outputs": [
    {
     "name": "stdout",
     "output_type": "stream",
     "text": [
      "Training model with alpha=1\n",
      "Training model with alpha=1.2\n",
      "Training model with alpha=1.4\n",
      "Training model with alpha=1.6\n"
     ]
    },
    {
     "data": {
      "text/html": [
       "<div>\n",
       "<style scoped>\n",
       "    .dataframe tbody tr th:only-of-type {\n",
       "        vertical-align: middle;\n",
       "    }\n",
       "\n",
       "    .dataframe tbody tr th {\n",
       "        vertical-align: top;\n",
       "    }\n",
       "\n",
       "    .dataframe thead th {\n",
       "        text-align: right;\n",
       "    }\n",
       "</style>\n",
       "<table border=\"1\" class=\"dataframe\">\n",
       "  <thead>\n",
       "    <tr style=\"text-align: right;\">\n",
       "      <th></th>\n",
       "      <th>alpha</th>\n",
       "      <th>validation rmse</th>\n",
       "    </tr>\n",
       "  </thead>\n",
       "  <tbody>\n",
       "    <tr>\n",
       "      <th>0</th>\n",
       "      <td>1.0</td>\n",
       "      <td>31286.211130</td>\n",
       "    </tr>\n",
       "    <tr>\n",
       "      <th>1</th>\n",
       "      <td>1.2</td>\n",
       "      <td>31320.466862</td>\n",
       "    </tr>\n",
       "    <tr>\n",
       "      <th>2</th>\n",
       "      <td>1.4</td>\n",
       "      <td>31352.481586</td>\n",
       "    </tr>\n",
       "    <tr>\n",
       "      <th>3</th>\n",
       "      <td>1.6</td>\n",
       "      <td>31382.154360</td>\n",
       "    </tr>\n",
       "  </tbody>\n",
       "</table>\n",
       "</div>"
      ],
      "text/plain": [
       "   alpha  validation rmse\n",
       "0    1.0     31286.211130\n",
       "1    1.2     31320.466862\n",
       "2    1.4     31352.481586\n",
       "3    1.6     31382.154360"
      ]
     },
     "execution_count": 121,
     "metadata": {},
     "output_type": "execute_result"
    }
   ],
   "source": [
    "# Simmilar situation might happend with ridge regression but it is always worth to check it\n",
    "# Lassso \n",
    "alpha_vals = [1,1.2,1.4,1.6]\n",
    "results = []\n",
    "for value in alpha_vals:\n",
    "    print(f'Training model with alpha={value}')\n",
    "    model = Ridge(alpha=value, random_state=42)\n",
    "    model.fit(X_train, y_train)\n",
    "    y_preds = model.predict(X_val)\n",
    "    val_rmse = rmse(y_val, y_preds)\n",
    "    results.append({'alpha':value, 'validation rmse':val_rmse})\n",
    "results_df = pd.DataFrame(results)\n",
    "results_df.sort_values(by='validation rmse')"
   ]
  },
  {
   "cell_type": "markdown",
   "id": "abdb7f40-e0bf-40ed-8d45-c06dd68b4f22",
   "metadata": {},
   "source": [
    "### NOTE \n",
    "Now I think is a good time to try some ensembling. XGBRegressor is not natively integrated with scikit learn so I need to wrap it in a custom class so I can use voting_regressor later."
   ]
  },
  {
   "cell_type": "code",
   "execution_count": 137,
   "id": "55b4a4bf-0bef-48f8-b054-612392b18dd7",
   "metadata": {},
   "outputs": [
    {
     "name": "stdout",
     "output_type": "stream",
     "text": [
      "Validation RMSE: 26986.247361641417\n"
     ]
    }
   ],
   "source": [
    "class XGBRegressorWrapper(RegressorMixin, BaseEstimator):\n",
    "    def __init__(self, **kwargs):\n",
    "        self.model = XGBRegressor(**kwargs)\n",
    "    \n",
    "    def fit(self, X, y):\n",
    "        self.model.fit(X, y)\n",
    "        return self\n",
    "    \n",
    "    def predict(self, X):\n",
    "        return self.model.predict(X)\n",
    "    \n",
    "    def score(self, X, y):\n",
    "        return self.model.score(X, y)\n",
    "\n",
    "# Define models\n",
    "xgb = XGBRegressorWrapper(learning_rate=0.09, n_estimators=200, max_depth=None, random_state=42)\n",
    "rf = RandomForestRegressor(n_estimators=100, max_depth=40, min_samples_split=2, min_samples_leaf=1, random_state=42)\n",
    "lasso = Lasso(alpha=100, max_iter=1000, random_state=42)\n",
    "ridge = Ridge(random_state=42)\n",
    "lr = LinearRegression()\n",
    "\n",
    "voting_regressor = VotingRegressor(estimators=[\n",
    "    ('xgb', xgb),\n",
    "    ('rf', rf),\n",
    "    ('lasso', lasso),\n",
    "    ('ridge', ridge),\n",
    "    ('lr', lr)\n",
    "])\n",
    "\n",
    "voting_regressor.fit(X_train, y_train)\n",
    "y_pred = voting_regressor.predict(X_val)\n",
    "val_rmse = rmse(y_val, y_pred)\n",
    "\n",
    "print(f'Validation RMSE: {val_rmse}')"
   ]
  },
  {
   "cell_type": "markdown",
   "id": "d56c2d77-719d-41e8-978f-6fead151c6b5",
   "metadata": {},
   "source": [
    "### NOTE\n",
    "This just did better than any other method! Now the finall step, predictions on test data."
   ]
  },
  {
   "cell_type": "code",
   "execution_count": 139,
   "id": "2dda638e-787a-4266-8a72-d2a971273738",
   "metadata": {},
   "outputs": [],
   "source": [
    "voting_regressor.fit(train_proc, y_true)\n",
    "y_preds = voting_regressor.predict(test_proc)\n",
    "ensembled_ml_submission = pd.DataFrame({'Id':test_raw['Id'], 'SalePrice':y_preds})\n",
    "ensembled_ml_submission.to_csv('ensembled_ml_submission.csv',index=False)"
   ]
  },
  {
   "cell_type": "code",
   "execution_count": 6,
   "id": "5fe866d8-eedb-45e5-924b-041c6ff9f1be",
   "metadata": {},
   "outputs": [
    {
     "data": {
      "image/png": "[encoded data removed]",
      "text/plain": [
       "<Figure size 1500x1200 with 1 Axes>"
      ]
     },
     "metadata": {},
     "output_type": "display_data"
    }
   ],
   "source": [
    "img = mpimg.imread(r\"C:\\Users\\Adam\\Desktop\\main\\programming\\machine learning\\house prices regression\\reports\\submission_ml_ensembled.png\")\n",
    "plt.figure(figsize=(15,12))\n",
    "plt.imshow(img)\n",
    "plt.axis('off')\n",
    "plt.show()"
   ]
  },
  {
   "cell_type": "markdown",
   "id": "7ca3a1ea-d8ee-4a4d-bb43-831db5a659c5",
   "metadata": {},
   "source": [
    "### NOTE\n",
    "This score almost doesn't differ from one established by DNNs."
   ]
  },
  {
   "cell_type": "code",
   "execution_count": 4,
   "id": "2ef53068-e3ef-462e-910d-46186da1dda8",
   "metadata": {},
   "outputs": [
    {
     "data": {
      "text/plain": [
       "['lr_model_v1.pkl']"
      ]
     },
     "execution_count": 4,
     "metadata": {},
     "output_type": "execute_result"
    }
   ],
   "source": [
    "xgb = XGBRegressorWrapper(learning_rate=0.09, n_estimators=200, max_depth=None, random_state=42)\n",
    "rf = RandomForestRegressor(n_estimators=100, max_depth=40, min_samples_split=2, min_samples_leaf=1, random_state=42)\n",
    "lasso = Lasso(alpha=100, max_iter=1000, random_state=42)\n",
    "ridge = Ridge(random_state=42)\n",
    "lr = LinearRegression()\n",
    "\n",
    "joblib.dump(xgb, 'xgb_model_v1.pkl')\n",
    "joblib.dump(rf, 'rf_model_v1.pkl')\n",
    "joblib.dump(lasso, 'lasso_model_v1.pkl')\n",
    "joblib.dump(ridge, 'ridge_model_v1.pkl')\n",
    "joblib.dump(lr, 'lr_model_v1.pkl')"
   ]
  },
  {
   "cell_type": "code",
   "execution_count": null,
   "id": "5a954c3f-fe55-4ad1-a208-ada41dba619d",
   "metadata": {},
   "outputs": [],
   "source": []
  }
 ],
 "metadata": {
  "kernelspec": {
   "display_name": "Python 3 (ipykernel)",
   "language": "python",
   "name": "python3"
  },
  "language_info": {
   "codemirror_mode": {
    "name": "ipython",
    "version": 3
   },
   "file_extension": ".py",
   "mimetype": "text/x-python",
   "name": "python",
   "nbconvert_exporter": "python",
   "pygments_lexer": "ipython3",
   "version": "3.10.16"
  }
 },
 "nbformat": 4,
 "nbformat_minor": 5
}
