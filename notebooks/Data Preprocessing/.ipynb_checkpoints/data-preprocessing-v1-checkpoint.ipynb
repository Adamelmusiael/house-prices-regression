{
 "cells": [
  {
   "cell_type": "code",
   "execution_count": 1,
   "metadata": {
    "_cell_guid": "b1076dfc-b9ad-4769-8c92-a6c4dae69d19",
    "_uuid": "8f2839f25d086af736a60e9eeb907d3b93b6e0e5"
   },
   "outputs": [],
   "source": [
    "import numpy as np\n",
    "import pandas as pd\n",
    "import matplotlib.pyplot as plt\n",
    "import seaborn as sns\n",
    "from sklearn.preprocessing import StandardScaler, OneHotEncoder\n",
    "from sklearn.pipeline import make_pipeline\n",
    "from sklearn.compose import make_column_transformer"
   ]
  },
  {
   "cell_type": "markdown",
   "metadata": {
    "execution": {
     "iopub.execute_input": "2024-12-27T15:51:10.720209Z",
     "iopub.status.busy": "2024-12-27T15:51:10.719751Z",
     "iopub.status.idle": "2024-12-27T15:51:10.790987Z",
     "shell.execute_reply": "2024-12-27T15:51:10.789940Z",
     "shell.execute_reply.started": "2024-12-27T15:51:10.720176Z"
    }
   },
   "source": [
    "# Prepare data for preprocessing\n"
   ]
  },
  {
   "cell_type": "code",
   "execution_count": 2,
   "metadata": {},
   "outputs": [],
   "source": [
    "train_df = pd.read_csv(r'C:\\Users\\Adam\\Desktop\\main\\programming\\machine learning\\house prices regression\\data\\raw\\train.csv')\n",
    "test_df = pd.read_csv(r'C:\\Users\\Adam\\Desktop\\main\\programming\\machine learning\\house prices regression\\data\\raw\\test.csv')\n",
    "#train_df.head()"
   ]
  },
  {
   "cell_type": "code",
   "execution_count": 3,
   "metadata": {},
   "outputs": [
    {
     "name": "stdout",
     "output_type": "stream",
     "text": [
      "(2919, 80)\n"
     ]
    },
    {
     "data": {
      "text/html": [
       "<div>\n",
       "<style scoped>\n",
       "    .dataframe tbody tr th:only-of-type {\n",
       "        vertical-align: middle;\n",
       "    }\n",
       "\n",
       "    .dataframe tbody tr th {\n",
       "        vertical-align: top;\n",
       "    }\n",
       "\n",
       "    .dataframe thead th {\n",
       "        text-align: right;\n",
       "    }\n",
       "</style>\n",
       "<table border=\"1\" class=\"dataframe\">\n",
       "  <thead>\n",
       "    <tr style=\"text-align: right;\">\n",
       "      <th></th>\n",
       "      <th>Id</th>\n",
       "      <th>MSSubClass</th>\n",
       "      <th>MSZoning</th>\n",
       "      <th>LotFrontage</th>\n",
       "      <th>LotArea</th>\n",
       "      <th>Street</th>\n",
       "      <th>Alley</th>\n",
       "      <th>LotShape</th>\n",
       "      <th>LandContour</th>\n",
       "      <th>Utilities</th>\n",
       "      <th>...</th>\n",
       "      <th>ScreenPorch</th>\n",
       "      <th>PoolArea</th>\n",
       "      <th>PoolQC</th>\n",
       "      <th>Fence</th>\n",
       "      <th>MiscFeature</th>\n",
       "      <th>MiscVal</th>\n",
       "      <th>MoSold</th>\n",
       "      <th>YrSold</th>\n",
       "      <th>SaleType</th>\n",
       "      <th>SaleCondition</th>\n",
       "    </tr>\n",
       "  </thead>\n",
       "  <tbody>\n",
       "    <tr>\n",
       "      <th>0</th>\n",
       "      <td>1</td>\n",
       "      <td>60</td>\n",
       "      <td>RL</td>\n",
       "      <td>65.0</td>\n",
       "      <td>8450</td>\n",
       "      <td>Pave</td>\n",
       "      <td>NaN</td>\n",
       "      <td>Reg</td>\n",
       "      <td>Lvl</td>\n",
       "      <td>AllPub</td>\n",
       "      <td>...</td>\n",
       "      <td>0</td>\n",
       "      <td>0</td>\n",
       "      <td>NaN</td>\n",
       "      <td>NaN</td>\n",
       "      <td>NaN</td>\n",
       "      <td>0</td>\n",
       "      <td>2</td>\n",
       "      <td>2008</td>\n",
       "      <td>WD</td>\n",
       "      <td>Normal</td>\n",
       "    </tr>\n",
       "    <tr>\n",
       "      <th>1</th>\n",
       "      <td>2</td>\n",
       "      <td>20</td>\n",
       "      <td>RL</td>\n",
       "      <td>80.0</td>\n",
       "      <td>9600</td>\n",
       "      <td>Pave</td>\n",
       "      <td>NaN</td>\n",
       "      <td>Reg</td>\n",
       "      <td>Lvl</td>\n",
       "      <td>AllPub</td>\n",
       "      <td>...</td>\n",
       "      <td>0</td>\n",
       "      <td>0</td>\n",
       "      <td>NaN</td>\n",
       "      <td>NaN</td>\n",
       "      <td>NaN</td>\n",
       "      <td>0</td>\n",
       "      <td>5</td>\n",
       "      <td>2007</td>\n",
       "      <td>WD</td>\n",
       "      <td>Normal</td>\n",
       "    </tr>\n",
       "    <tr>\n",
       "      <th>2</th>\n",
       "      <td>3</td>\n",
       "      <td>60</td>\n",
       "      <td>RL</td>\n",
       "      <td>68.0</td>\n",
       "      <td>11250</td>\n",
       "      <td>Pave</td>\n",
       "      <td>NaN</td>\n",
       "      <td>IR1</td>\n",
       "      <td>Lvl</td>\n",
       "      <td>AllPub</td>\n",
       "      <td>...</td>\n",
       "      <td>0</td>\n",
       "      <td>0</td>\n",
       "      <td>NaN</td>\n",
       "      <td>NaN</td>\n",
       "      <td>NaN</td>\n",
       "      <td>0</td>\n",
       "      <td>9</td>\n",
       "      <td>2008</td>\n",
       "      <td>WD</td>\n",
       "      <td>Normal</td>\n",
       "    </tr>\n",
       "    <tr>\n",
       "      <th>3</th>\n",
       "      <td>4</td>\n",
       "      <td>70</td>\n",
       "      <td>RL</td>\n",
       "      <td>60.0</td>\n",
       "      <td>9550</td>\n",
       "      <td>Pave</td>\n",
       "      <td>NaN</td>\n",
       "      <td>IR1</td>\n",
       "      <td>Lvl</td>\n",
       "      <td>AllPub</td>\n",
       "      <td>...</td>\n",
       "      <td>0</td>\n",
       "      <td>0</td>\n",
       "      <td>NaN</td>\n",
       "      <td>NaN</td>\n",
       "      <td>NaN</td>\n",
       "      <td>0</td>\n",
       "      <td>2</td>\n",
       "      <td>2006</td>\n",
       "      <td>WD</td>\n",
       "      <td>Abnorml</td>\n",
       "    </tr>\n",
       "    <tr>\n",
       "      <th>4</th>\n",
       "      <td>5</td>\n",
       "      <td>60</td>\n",
       "      <td>RL</td>\n",
       "      <td>84.0</td>\n",
       "      <td>14260</td>\n",
       "      <td>Pave</td>\n",
       "      <td>NaN</td>\n",
       "      <td>IR1</td>\n",
       "      <td>Lvl</td>\n",
       "      <td>AllPub</td>\n",
       "      <td>...</td>\n",
       "      <td>0</td>\n",
       "      <td>0</td>\n",
       "      <td>NaN</td>\n",
       "      <td>NaN</td>\n",
       "      <td>NaN</td>\n",
       "      <td>0</td>\n",
       "      <td>12</td>\n",
       "      <td>2008</td>\n",
       "      <td>WD</td>\n",
       "      <td>Normal</td>\n",
       "    </tr>\n",
       "  </tbody>\n",
       "</table>\n",
       "<p>5 rows × 80 columns</p>\n",
       "</div>"
      ],
      "text/plain": [
       "   Id  MSSubClass MSZoning  LotFrontage  LotArea Street Alley LotShape  \\\n",
       "0   1          60       RL         65.0     8450   Pave   NaN      Reg   \n",
       "1   2          20       RL         80.0     9600   Pave   NaN      Reg   \n",
       "2   3          60       RL         68.0    11250   Pave   NaN      IR1   \n",
       "3   4          70       RL         60.0     9550   Pave   NaN      IR1   \n",
       "4   5          60       RL         84.0    14260   Pave   NaN      IR1   \n",
       "\n",
       "  LandContour Utilities  ... ScreenPorch PoolArea PoolQC Fence MiscFeature  \\\n",
       "0         Lvl    AllPub  ...           0        0    NaN   NaN         NaN   \n",
       "1         Lvl    AllPub  ...           0        0    NaN   NaN         NaN   \n",
       "2         Lvl    AllPub  ...           0        0    NaN   NaN         NaN   \n",
       "3         Lvl    AllPub  ...           0        0    NaN   NaN         NaN   \n",
       "4         Lvl    AllPub  ...           0        0    NaN   NaN         NaN   \n",
       "\n",
       "  MiscVal MoSold  YrSold  SaleType  SaleCondition  \n",
       "0       0      2    2008        WD         Normal  \n",
       "1       0      5    2007        WD         Normal  \n",
       "2       0      9    2008        WD         Normal  \n",
       "3       0      2    2006        WD        Abnorml  \n",
       "4       0     12    2008        WD         Normal  \n",
       "\n",
       "[5 rows x 80 columns]"
      ]
     },
     "execution_count": 3,
     "metadata": {},
     "output_type": "execute_result"
    }
   ],
   "source": [
    "train_df = train_df.drop(columns=['SalePrice'], axis=1)\n",
    "data_con = pd.concat([train_df, test_df], ignore_index=True)\n",
    "print(data_con.shape) \n",
    "data_con.head()"
   ]
  },
  {
   "cell_type": "markdown",
   "metadata": {},
   "source": [
    "1. list columns with missing values\n",
    "2. drop features with missing values above 70%\n",
    "3. fill missing values\n",
    "4. reduce skeweness\n",
    "5. scale the data\n",
    "6. encode non-numeric data"
   ]
  },
  {
   "cell_type": "code",
   "execution_count": 4,
   "metadata": {
    "scrolled": true
   },
   "outputs": [
    {
     "name": "stdout",
     "output_type": "stream",
     "text": [
      "True\n",
      "-----------------\n",
      "PoolQC          2909\n",
      "MiscFeature     2814\n",
      "Alley           2721\n",
      "Fence           2348\n",
      "MasVnrType      1766\n",
      "FireplaceQu     1420\n",
      "LotFrontage      486\n",
      "GarageQual       159\n",
      "GarageYrBlt      159\n",
      "GarageCond       159\n",
      "GarageFinish     159\n",
      "GarageType       157\n",
      "BsmtExposure      82\n",
      "BsmtCond          82\n",
      "BsmtQual          81\n",
      "BsmtFinType2      80\n",
      "BsmtFinType1      79\n",
      "MasVnrArea        23\n",
      "MSZoning           4\n",
      "BsmtFullBath       2\n",
      "Functional         2\n",
      "BsmtHalfBath       2\n",
      "Utilities          2\n",
      "BsmtFinSF1         1\n",
      "Exterior2nd        1\n",
      "Exterior1st        1\n",
      "Electrical         1\n",
      "TotalBsmtSF        1\n",
      "BsmtUnfSF          1\n",
      "BsmtFinSF2         1\n",
      "KitchenQual        1\n",
      "GarageArea         1\n",
      "GarageCars         1\n",
      "SaleType           1\n",
      "dtype: int64\n",
      "-----------------\n"
     ]
    }
   ],
   "source": [
    "#1 list columns with missing values\n",
    "missing_cols = data_con.isna().sum()\n",
    "missing_cols = missing_cols[missing_cols > 0].sort_values(ascending=False)\n",
    "\n",
    "# 1.1 columns with missing values numeric\n",
    "num_cols = data_con.select_dtypes(include=['number']).columns.tolist()\n",
    "missing_numerical = data_con[num_cols].isna().sum()\n",
    "missing_numerical = missing_numerical[missing_numerical > 0].sort_values(ascending=False)\n",
    "\n",
    "#1.2 columns with missing values categoric\n",
    "cat_cols = data_con.select_dtypes(exclude=['number']).columns.tolist()\n",
    "missing_categorical = data_con[cat_cols].isna().sum()\n",
    "missing_categorical = missing_categorical[missing_categorical > 0].sort_values(ascending=False)\n",
    "\n",
    "# verify\n",
    "if len(cat_cols) + len(num_cols) == 80:\n",
    "    print(True)\n",
    "else:\n",
    "    print(False)\n",
    "\n",
    "print('-----------------')\n",
    "print(missing_cols)\n",
    "print('-----------------')"
   ]
  },
  {
   "cell_type": "code",
   "execution_count": 5,
   "metadata": {},
   "outputs": [
    {
     "data": {
      "text/plain": [
       "Index(['Id', 'MSSubClass', 'MSZoning', 'LotFrontage', 'LotArea', 'Street',\n",
       "       'LotShape', 'LandContour', 'Utilities', 'LotConfig', 'LandSlope',\n",
       "       'Neighborhood', 'Condition1', 'Condition2', 'BldgType', 'HouseStyle',\n",
       "       'OverallQual', 'OverallCond', 'YearBuilt', 'YearRemodAdd', 'RoofStyle',\n",
       "       'RoofMatl', 'Exterior1st', 'Exterior2nd', 'MasVnrType', 'MasVnrArea',\n",
       "       'ExterQual', 'ExterCond', 'Foundation', 'BsmtQual', 'BsmtCond',\n",
       "       'BsmtExposure', 'BsmtFinType1', 'BsmtFinSF1', 'BsmtFinType2',\n",
       "       'BsmtFinSF2', 'BsmtUnfSF', 'TotalBsmtSF', 'Heating', 'HeatingQC',\n",
       "       'CentralAir', 'Electrical', '1stFlrSF', '2ndFlrSF', 'LowQualFinSF',\n",
       "       'GrLivArea', 'BsmtFullBath', 'BsmtHalfBath', 'FullBath', 'HalfBath',\n",
       "       'BedroomAbvGr', 'KitchenAbvGr', 'KitchenQual', 'TotRmsAbvGrd',\n",
       "       'Functional', 'Fireplaces', 'FireplaceQu', 'GarageType', 'GarageYrBlt',\n",
       "       'GarageFinish', 'GarageCars', 'GarageArea', 'GarageQual', 'GarageCond',\n",
       "       'PavedDrive', 'WoodDeckSF', 'OpenPorchSF', 'EnclosedPorch', '3SsnPorch',\n",
       "       'ScreenPorch', 'PoolArea', 'MiscVal', 'MoSold', 'YrSold', 'SaleType',\n",
       "       'SaleCondition'],\n",
       "      dtype='object')"
      ]
     },
     "execution_count": 5,
     "metadata": {},
     "output_type": "execute_result"
    }
   ],
   "source": [
    "# 2.drop features with missing values if there is more than 70% of missing values in a column.\n",
    "data_con = data_con.drop(columns=['PoolQC', 'MiscFeature', 'Alley', 'Fence'])\n",
    "data_con.columns"
   ]
  },
  {
   "cell_type": "code",
   "execution_count": 6,
   "metadata": {},
   "outputs": [
    {
     "data": {
      "text/plain": [
       "LotFrontage     486\n",
       "GarageYrBlt     159\n",
       "MasVnrArea       23\n",
       "BsmtHalfBath      2\n",
       "BsmtFullBath      2\n",
       "BsmtFinSF1        1\n",
       "BsmtFinSF2        1\n",
       "TotalBsmtSF       1\n",
       "BsmtUnfSF         1\n",
       "GarageCars        1\n",
       "GarageArea        1\n",
       "dtype: int64"
      ]
     },
     "execution_count": 6,
     "metadata": {},
     "output_type": "execute_result"
    }
   ],
   "source": [
    "missing_numerical"
   ]
  },
  {
   "cell_type": "code",
   "execution_count": 7,
   "metadata": {},
   "outputs": [],
   "source": [
    "SM_num = ['GarageYrBlt', 'MasVnrArea', 'BsmtFullBath', 'BsmtHalfBath',  'BsmtUnfSF', 'TotalBsmtSF',  'GarageCars', 'GarageArea'] # 0\n",
    "TM_num = ['LotFrontage', 'BsmtFinSF1', 'BsmtFinSF2'] # median "
   ]
  },
  {
   "cell_type": "code",
   "execution_count": 8,
   "metadata": {},
   "outputs": [
    {
     "data": {
      "text/plain": [
       "PoolQC          2909\n",
       "MiscFeature     2814\n",
       "Alley           2721\n",
       "Fence           2348\n",
       "MasVnrType      1766\n",
       "FireplaceQu     1420\n",
       "GarageFinish     159\n",
       "GarageCond       159\n",
       "GarageQual       159\n",
       "GarageType       157\n",
       "BsmtCond          82\n",
       "BsmtExposure      82\n",
       "BsmtQual          81\n",
       "BsmtFinType2      80\n",
       "BsmtFinType1      79\n",
       "MSZoning           4\n",
       "Functional         2\n",
       "Utilities          2\n",
       "Exterior2nd        1\n",
       "Exterior1st        1\n",
       "KitchenQual        1\n",
       "Electrical         1\n",
       "SaleType           1\n",
       "dtype: int64"
      ]
     },
     "execution_count": 8,
     "metadata": {},
     "output_type": "execute_result"
    }
   ],
   "source": [
    "missing_categorical"
   ]
  },
  {
   "cell_type": "code",
   "execution_count": 9,
   "metadata": {},
   "outputs": [],
   "source": [
    "SM_cat = ['MasVnrType', 'FireplaceQu', 'GarageQual', 'GarageFinish', 'GarageCond', 'GarageType', 'BsmtCond', 'BsmtExposure', 'BsmtQual',\n",
    "         'BsmtFinType2', 'BsmtFinType1'] # None\n",
    "TM_cat = ['MSZoning', 'Functional', 'Utilities', 'Electrical', 'KitchenQual', 'Exterior2nd', 'Exterior1st', 'SaleType'] # most frequent cat"
   ]
  },
  {
   "cell_type": "markdown",
   "metadata": {},
   "source": [
    "### NOTE\n",
    "Keep in mind that in *missing_categorical* there are still dropped columns PoolQC, MiscFeature etc.\n",
    "Moving forward, there are two types of missing values in this dataset. True missing values (TM), which are missing values caused by some error and structured missing values (SM) that might be interpreted as \"no data for this case\". In this case we can not with 100% certainty decide which features are TM or SM. \n",
    "\n",
    "For numerical true missing values will be filled with median, while structured with 0.\n",
    "For categorical true missing will be filled with most frequent category, while structured with 'None'."
   ]
  },
  {
   "cell_type": "code",
   "execution_count": 10,
   "metadata": {},
   "outputs": [],
   "source": [
    "# 3.fill missing values\n",
    "#3.1 numerical\n",
    "def fill_with_zero(dataset, columns):\n",
    "    \"\"\" \n",
    "    This function fills missing values with 0 value. Returns modified dataset.\n",
    "    \"\"\"\n",
    "    for column in columns:\n",
    "        dataset[column].fillna(0, inplace=True)\n",
    "    return dataset\n",
    "\n",
    "def fill_with_median(dataset, columns):\n",
    "    \"\"\" \n",
    "    This function fills missing values with median value. Returns modified dataset.\n",
    "    \"\"\"\n",
    "    for column in columns:\n",
    "        dataset[column].fillna(dataset[column].median(), inplace=True)\n",
    "    return dataset\n",
    "#3.2 categorical\n",
    "def fill_with_most_freq(dataset, columns):\n",
    "    \"\"\" \n",
    "    This function fills missing values with the most frequent category. Returns modified dataset.\n",
    "    \"\"\"\n",
    "    for column in columns:\n",
    "        dataset[column].fillna(dataset[column].mode()[0], inplace=True)\n",
    "    return dataset\n",
    "\n",
    "def fill_with_none(dataset, columns):\n",
    "    \"\"\" \n",
    "    This function fills missing values with 'None'. Returns modified dataset.\n",
    "    \"\"\"\n",
    "    for column in columns:\n",
    "        dataset[column].fillna('None', inplace=True)\n",
    "    return dataset"
   ]
  },
  {
   "cell_type": "code",
   "execution_count": 11,
   "metadata": {},
   "outputs": [
    {
     "data": {
      "text/plain": [
       "30"
      ]
     },
     "execution_count": 11,
     "metadata": {},
     "output_type": "execute_result"
    }
   ],
   "source": [
    "len(data_con.columns[data_con.isna().any()])"
   ]
  },
  {
   "cell_type": "code",
   "execution_count": 12,
   "metadata": {},
   "outputs": [
    {
     "data": {
      "text/plain": [
       "19"
      ]
     },
     "execution_count": 12,
     "metadata": {},
     "output_type": "execute_result"
    }
   ],
   "source": [
    "# -4, becouse I have dropped 4 of them before\n",
    "len(missing_categorical)-4"
   ]
  },
  {
   "cell_type": "code",
   "execution_count": 13,
   "metadata": {},
   "outputs": [
    {
     "data": {
      "text/plain": [
       "11"
      ]
     },
     "execution_count": 13,
     "metadata": {},
     "output_type": "execute_result"
    }
   ],
   "source": [
    "len(missing_numerical)"
   ]
  },
  {
   "cell_type": "code",
   "execution_count": 14,
   "metadata": {
    "scrolled": true
   },
   "outputs": [
    {
     "name": "stdout",
     "output_type": "stream",
     "text": [
      "Columns to fill left: 19\n",
      "Columns to fill left: 0\n"
     ]
    },
    {
     "name": "stderr",
     "output_type": "stream",
     "text": [
      "C:\\Users\\Adam\\AppData\\Local\\Temp\\ipykernel_4236\\256148231.py:8: FutureWarning: A value is trying to be set on a copy of a DataFrame or Series through chained assignment using an inplace method.\n",
      "The behavior will change in pandas 3.0. This inplace method will never work because the intermediate object on which we are setting values always behaves as a copy.\n",
      "\n",
      "For example, when doing 'df[col].method(value, inplace=True)', try using 'df.method({col: value}, inplace=True)' or df[col] = df[col].method(value) instead, to perform the operation inplace on the original object.\n",
      "\n",
      "\n",
      "  dataset[column].fillna(0, inplace=True)\n",
      "C:\\Users\\Adam\\AppData\\Local\\Temp\\ipykernel_4236\\256148231.py:16: FutureWarning: A value is trying to be set on a copy of a DataFrame or Series through chained assignment using an inplace method.\n",
      "The behavior will change in pandas 3.0. This inplace method will never work because the intermediate object on which we are setting values always behaves as a copy.\n",
      "\n",
      "For example, when doing 'df[col].method(value, inplace=True)', try using 'df.method({col: value}, inplace=True)' or df[col] = df[col].method(value) instead, to perform the operation inplace on the original object.\n",
      "\n",
      "\n",
      "  dataset[column].fillna(dataset[column].median(), inplace=True)\n",
      "C:\\Users\\Adam\\AppData\\Local\\Temp\\ipykernel_4236\\256148231.py:16: FutureWarning: A value is trying to be set on a copy of a DataFrame or Series through chained assignment using an inplace method.\n",
      "The behavior will change in pandas 3.0. This inplace method will never work because the intermediate object on which we are setting values always behaves as a copy.\n",
      "\n",
      "For example, when doing 'df[col].method(value, inplace=True)', try using 'df.method({col: value}, inplace=True)' or df[col] = df[col].method(value) instead, to perform the operation inplace on the original object.\n",
      "\n",
      "\n",
      "  dataset[column].fillna(dataset[column].median(), inplace=True)\n",
      "C:\\Users\\Adam\\AppData\\Local\\Temp\\ipykernel_4236\\256148231.py:16: FutureWarning: A value is trying to be set on a copy of a DataFrame or Series through chained assignment using an inplace method.\n",
      "The behavior will change in pandas 3.0. This inplace method will never work because the intermediate object on which we are setting values always behaves as a copy.\n",
      "\n",
      "For example, when doing 'df[col].method(value, inplace=True)', try using 'df.method({col: value}, inplace=True)' or df[col] = df[col].method(value) instead, to perform the operation inplace on the original object.\n",
      "\n",
      "\n",
      "  dataset[column].fillna(dataset[column].median(), inplace=True)\n",
      "C:\\Users\\Adam\\AppData\\Local\\Temp\\ipykernel_4236\\256148231.py:24: FutureWarning: A value is trying to be set on a copy of a DataFrame or Series through chained assignment using an inplace method.\n",
      "The behavior will change in pandas 3.0. This inplace method will never work because the intermediate object on which we are setting values always behaves as a copy.\n",
      "\n",
      "For example, when doing 'df[col].method(value, inplace=True)', try using 'df.method({col: value}, inplace=True)' or df[col] = df[col].method(value) instead, to perform the operation inplace on the original object.\n",
      "\n",
      "\n",
      "  dataset[column].fillna(dataset[column].mode()[0], inplace=True)\n",
      "C:\\Users\\Adam\\AppData\\Local\\Temp\\ipykernel_4236\\256148231.py:32: FutureWarning: A value is trying to be set on a copy of a DataFrame or Series through chained assignment using an inplace method.\n",
      "The behavior will change in pandas 3.0. This inplace method will never work because the intermediate object on which we are setting values always behaves as a copy.\n",
      "\n",
      "For example, when doing 'df[col].method(value, inplace=True)', try using 'df.method({col: value}, inplace=True)' or df[col] = df[col].method(value) instead, to perform the operation inplace on the original object.\n",
      "\n",
      "\n",
      "  dataset[column].fillna('None', inplace=True)\n"
     ]
    }
   ],
   "source": [
    "# implement functions\n",
    "data_con = fill_with_zero(data_con, SM_num)\n",
    "data_con = fill_with_median(data_con, TM_num)\n",
    "print('Columns to fill left:', len(data_con.columns[data_con.isna().any()]))\n",
    "\n",
    "data_con = fill_with_most_freq(data_con, TM_cat)\n",
    "data_con = fill_with_none(data_con, SM_cat)\n",
    "print('Columns to fill left:', len(data_con.columns[data_con.isna().any()]))"
   ]
  },
  {
   "cell_type": "code",
   "execution_count": 15,
   "metadata": {},
   "outputs": [
    {
     "name": "stdout",
     "output_type": "stream",
     "text": [
      "MSSubClass 1.3761646373261713 0.24528354240621622\n",
      "LotFrontage 1.6757127932619122 -0.9948415692198087\n",
      "LotArea 12.829024853018762 -0.505010100221913\n",
      "MasVnrArea 2.6149360706240214 0.5372943324957613\n",
      "BsmtFinSF1 1.4261107660173202 -0.6184861308606144\n",
      "BsmtFinSF2 4.148275267275402 2.463749416031134\n",
      "BsmtUnfSF 0.9198119686244477 -2.1563137383677677\n",
      "TotalBsmtSF 1.157489025821493 -4.958842187588636\n",
      "1stFlrSF 1.4703601055379227 0.06486101674723506\n",
      "2ndFlrSF 0.8621178325657642 0.305206076056322\n",
      "LowQualFinSF 12.094977192517302 8.56209088801536\n",
      "GrLivArea 1.2700104075191514 0.013194362973261287\n",
      "BsmtHalfBath 3.9336155129159094 3.7767030363381187\n",
      "KitchenAbvGr 4.304466641562935 3.5221608468499483\n",
      "TotRmsAbvGrd 0.7587568676624701 0.03512504311429316\n",
      "Fireplaces 0.733871770878103 0.2377095178068746\n",
      "WoodDeckSF 1.8433802126628294 0.15811426310497517\n",
      "OpenPorchSF 2.5364173160468444 -0.04181879673885529\n",
      "EnclosedPorch 4.005950070504265 1.9620890015074595\n",
      "3SsnPorch 11.381914394786643 8.829793819788062\n",
      "ScreenPorch 3.948723141292199 2.9474199516113737\n",
      "PoolArea 16.9070172435751 15.006047051771919\n",
      "MiscVal 21.958480324447216 5.216664735729965\n"
     ]
    }
   ],
   "source": [
    "# 4. reduce skeweness. Aplly log n+1 transformation for columns, where skeweness > .7\n",
    "for column in num_cols:\n",
    "    temp = data_con[column].skew() \n",
    "    #print(column,temp)\n",
    "    if data_con[column].skew() > .7:\n",
    "        data_con[column] = np.log1p(data_con[column])\n",
    "        print(column, temp, data_con[column].skew())"
   ]
  },
  {
   "cell_type": "code",
   "execution_count": 26,
   "metadata": {},
   "outputs": [
    {
     "name": "stdout",
     "output_type": "stream",
     "text": [
      "Successfully saved!\n"
     ]
    }
   ],
   "source": [
    "# let's save this dataset before One Hot Encoding for Feature Engineering\n",
    "data_con.to_csv('entire_prep_dataset.csv', index=False)\n",
    "print('Successfully saved!')"
   ]
  },
  {
   "cell_type": "code",
   "execution_count": 16,
   "metadata": {},
   "outputs": [
    {
     "data": {
      "text/plain": [
       "(1460, 80)"
      ]
     },
     "execution_count": 16,
     "metadata": {},
     "output_type": "execute_result"
    }
   ],
   "source": [
    "train_df.shape"
   ]
  },
  {
   "cell_type": "code",
   "execution_count": 17,
   "metadata": {},
   "outputs": [],
   "source": [
    "train_prep = data_con.iloc[:train_df.shape[0]]\n",
    "test_prep = data_con.iloc[train_df.shape[0]:]"
   ]
  },
  {
   "cell_type": "code",
   "execution_count": 18,
   "metadata": {},
   "outputs": [],
   "source": [
    "to_remove =['PoolQC', 'MiscFeature', 'Alley', 'Fence']\n",
    "for column in to_remove:\n",
    "    if column in cat_cols:\n",
    "        cat_cols.remove(column)\n",
    "        "
   ]
  },
  {
   "cell_type": "code",
   "execution_count": 19,
   "metadata": {},
   "outputs": [],
   "source": [
    "#5. scale the data and one hot encode categorical cols\n",
    "# split data_con into training and testing dataset\n",
    "train_prep = data_con.iloc[:train_df.shape[0]]\n",
    "test_prep = data_con.iloc[train_df.shape[0]:]\n",
    "\n",
    "num_pipeline = make_pipeline(StandardScaler())\n",
    "cat_pipeline = make_pipeline(OneHotEncoder(handle_unknown='ignore', sparse_output=False))\n",
    "preprocess = make_column_transformer(\n",
    "    (num_pipeline, num_cols),\n",
    "    (cat_pipeline, cat_cols)\n",
    ")\n",
    "\n",
    "train_prep = preprocess.fit_transform(train_prep)\n",
    "test_prep = preprocess.transform(test_prep)"
   ]
  },
  {
   "cell_type": "code",
   "execution_count": 20,
   "metadata": {},
   "outputs": [
    {
     "data": {
      "text/plain": [
       "((1460, 286), (1459, 286))"
      ]
     },
     "execution_count": 20,
     "metadata": {},
     "output_type": "execute_result"
    }
   ],
   "source": [
    "train_prep.shape, test_prep.shape"
   ]
  },
  {
   "cell_type": "code",
   "execution_count": 21,
   "metadata": {},
   "outputs": [],
   "source": [
    "\n",
    "one_ht_encoded_cols = preprocess.transformers_[1][1].get_feature_names_out(cat_cols)\n",
    "all_cols = num_cols + list(one_ht_encoded_cols)"
   ]
  },
  {
   "cell_type": "code",
   "execution_count": 22,
   "metadata": {},
   "outputs": [
    {
     "name": "stdout",
     "output_type": "stream",
     "text": [
      "Saving...\n",
      "Successfully saved!\n"
     ]
    }
   ],
   "source": [
    "# convert arrays to dataframe\n",
    "train_prep_df = pd.DataFrame(train_prep, columns=all_cols)\n",
    "test_prep_df = pd.DataFrame(test_prep, columns=all_cols)\n",
    "\n",
    "print('Saving...')\n",
    "train_prep_df.to_csv('train_prep_df.csv', index=False)\n",
    "test_prep_df.to_csv('test_prep_df.csv', index=False)\n",
    "print('Successfully saved!')"
   ]
  },
  {
   "cell_type": "code",
   "execution_count": null,
   "metadata": {},
   "outputs": [],
   "source": []
  },
  {
   "cell_type": "code",
   "execution_count": null,
   "metadata": {},
   "outputs": [],
   "source": []
  }
 ],
 "metadata": {
  "kaggle": {
   "accelerator": "none",
   "dataSources": [
    {
     "datasetId": 6384645,
     "sourceId": 10313305,
     "sourceType": "datasetVersion"
    }
   ],
   "dockerImageVersionId": 30822,
   "isGpuEnabled": false,
   "isInternetEnabled": true,
   "language": "python",
   "sourceType": "notebook"
  },
  "kernelspec": {
   "display_name": "Python 3 (ipykernel)",
   "language": "python",
   "name": "python3"
  },
  "language_info": {
   "codemirror_mode": {
    "name": "ipython",
    "version": 3
   },
   "file_extension": ".py",
   "mimetype": "text/x-python",
   "name": "python",
   "nbconvert_exporter": "python",
   "pygments_lexer": "ipython3",
   "version": "3.10.16"
  }
 },
 "nbformat": 4,
 "nbformat_minor": 4
}
